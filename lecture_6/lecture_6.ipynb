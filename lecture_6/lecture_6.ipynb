{
 "cells": [
  {
   "cell_type": "code",
   "execution_count": 1,
   "metadata": {},
   "outputs": [
    {
     "data": {
      "text/plain": [
       "4"
      ]
     },
     "execution_count": 1,
     "metadata": {},
     "output_type": "execute_result"
    }
   ],
   "source": [
    "class permutation(object):\n",
    "    def _init_(self, perm, n):\n",
    "        if not type(perm) == list:\n",
    "            raise TypeError(\"Permutation must be a list\")\n",
    "        self._perm = perm\n",
    "        self._n = len(perm)\n",
    "    \n",
    "    def is_cycle(self, perm): \n",
    "        permutation = self._perm\n",
    "        \n",
    "        start = permutation[0]\n",
    "        next = permutation[start]\n",
    "        counter = 1\n",
    "        while next != start: \n",
    "            next = permutation[next]\n",
    "            counter += 1\n",
    "        if counter == self._n: \n",
    "            return True\n",
    "        else:\n",
    "            return False\n",
    "    \n",
    "        \n",
    "    def decomposition(self, ): \n",
    "        \n",
    "\n",
    "\n",
    "    def composition(self, first, second):\n",
    "        #apply second permutation to the first:\n",
    "        for i in second \n",
    "        \n"
   ]
  }
 ],
 "metadata": {
  "kernelspec": {
   "display_name": "base",
   "language": "python",
   "name": "python3"
  },
  "language_info": {
   "codemirror_mode": {
    "name": "ipython",
    "version": 3
   },
   "file_extension": ".py",
   "mimetype": "text/x-python",
   "name": "python",
   "nbconvert_exporter": "python",
   "pygments_lexer": "ipython3",
   "version": "3.11.5"
  }
 },
 "nbformat": 4,
 "nbformat_minor": 2
}
