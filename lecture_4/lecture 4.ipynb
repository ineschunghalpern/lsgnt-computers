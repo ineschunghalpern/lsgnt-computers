{
 "cells": [
  {
   "cell_type": "code",
   "execution_count": 2,
   "id": "e3d21427",
   "metadata": {},
   "outputs": [
    {
     "name": "stdout",
     "output_type": "stream",
     "text": [
      "x is a very long list [1, 3, 5, 7]\n",
      "and now we continue\n"
     ]
    }
   ],
   "source": [
    "x = [1,3,5,7]\n",
    "if len (x) >2:\n",
    "    print(f\"x is a very long list {x}\")\n",
    "          \n",
    "print (\"and now we continue\")"
   ]
  },
  {
   "cell_type": "code",
   "execution_count": 4,
   "id": "7b797e0a",
   "metadata": {},
   "outputs": [
    {
     "name": "stdout",
     "output_type": "stream",
     "text": [
      "x is True\n",
      "y is nonzero\n",
      "and now we carry on\n"
     ]
    }
   ],
   "source": [
    "x = True\n",
    "y = 7\n",
    "if x: \n",
    "    print (\"x is True\")\n",
    "    if y ==0: \n",
    "        print (\"y is zero\")\n",
    "    else: \n",
    "        print(\"y is nonzero\")\n",
    "print(\"and now we carry on\")"
   ]
  },
  {
   "cell_type": "code",
   "execution_count": 5,
   "id": "73936f78",
   "metadata": {},
   "outputs": [
    {
     "name": "stdout",
     "output_type": "stream",
     "text": [
      "x is pos\n",
      "and now we carry on\n"
     ]
    }
   ],
   "source": [
    "if x>0: \n",
    "    print (\"x is pos\")\n",
    "elif x ==0:\n",
    "    print(\"x is zero\")\n",
    "else:\n",
    "    print(\"x is negative\")\n",
    "print(\"and now we carry on\")"
   ]
  },
  {
   "cell_type": "code",
   "execution_count": 7,
   "id": "ed088e9f",
   "metadata": {},
   "outputs": [
    {
     "name": "stdout",
     "output_type": "stream",
     "text": [
      "False\n",
      "False\n"
     ]
    }
   ],
   "source": [
    "x,y = 2,3\n",
    "print(x ==y)\n",
    "z = (x==y)\n",
    "print(z)"
   ]
  },
  {
   "cell_type": "code",
   "execution_count": 8,
   "id": "43c40d73",
   "metadata": {},
   "outputs": [
    {
     "name": "stdout",
     "output_type": "stream",
     "text": [
      "0\n",
      "1\n",
      "2\n",
      "3\n",
      "4\n"
     ]
    }
   ],
   "source": [
    "for i in range (5):\n",
    "    print(i)"
   ]
  },
  {
   "cell_type": "code",
   "execution_count": 9,
   "id": "b0ff112f",
   "metadata": {},
   "outputs": [
    {
     "name": "stdout",
     "output_type": "stream",
     "text": [
      "0 squared is 0\n",
      "1 squared is 1\n",
      "2 squared is 4\n",
      "3 squared is 9\n",
      "4 squared is 16\n"
     ]
    }
   ],
   "source": [
    "for i in range(5):\n",
    "    j = i**2\n",
    "    print (f\"{i} squared is {j}\")"
   ]
  },
  {
   "cell_type": "code",
   "execution_count": 12,
   "id": "1d48fb20",
   "metadata": {},
   "outputs": [
    {
     "name": "stdout",
     "output_type": "stream",
     "text": [
      "fight now i is 5\n",
      "fight now i is 6\n",
      "fight now i is 7\n",
      "fight now i is 8\n",
      "fight now i is 9\n",
      "fight now i is 10\n",
      "fight now i is 11\n"
     ]
    }
   ],
   "source": [
    "i = 5\n",
    "while i<12:\n",
    "    print(f\"fight now i is {i}\")\n",
    "    i +=1"
   ]
  },
  {
   "cell_type": "code",
   "execution_count": 3,
   "id": "0c6f0a55",
   "metadata": {},
   "outputs": [
    {
     "name": "stdout",
     "output_type": "stream",
     "text": [
      "2\n",
      "4\n",
      "6\n",
      "8\n",
      "10\n",
      "12\n",
      "14\n",
      "16\n"
     ]
    }
   ],
   "source": [
    "for i in range (8):\n",
    "    print(2*(i+1))"
   ]
  },
  {
   "cell_type": "code",
   "execution_count": 5,
   "id": "fd4b404d",
   "metadata": {},
   "outputs": [
    {
     "name": "stdout",
     "output_type": "stream",
     "text": [
      "1\n",
      "3\n",
      "look out theres a ghost!\n",
      "0 1\n",
      "1 3\n",
      "2 5\n",
      "3 7\n"
     ]
    }
   ],
   "source": [
    "S = [1,3,\"look out theres a ghost!\"]\n",
    "for x in S:\n",
    "    print (x)\n",
    "set = [1,3,5,7]\n",
    "for i,x in enumerate(set):\n",
    "    print(i,x)"
   ]
  },
  {
   "cell_type": "code",
   "execution_count": 6,
   "id": "ef1fa65e",
   "metadata": {},
   "outputs": [
    {
     "name": "stdout",
     "output_type": "stream",
     "text": [
      "1 1\n",
      "3 3\n",
      "look out theres a ghost! 5\n"
     ]
    }
   ],
   "source": [
    "for x,y in zip(S,set):\n",
    "    print(x,y)"
   ]
  },
  {
   "cell_type": "code",
   "execution_count": 8,
   "id": "b6ae2db1",
   "metadata": {},
   "outputs": [
    {
     "name": "stdout",
     "output_type": "stream",
     "text": [
      "keykey1 corresponds to value 7\n",
      "keykey2 corresponds to value 8\n",
      "keykey3 corresponds to value 12\n"
     ]
    }
   ],
   "source": [
    "S = {'key1':7, 'key2': 8, 'key3': 12}\n",
    "for k,v in S.items():\n",
    "    print (f\"key{k} corresponds to value {v}\")"
   ]
  },
  {
   "cell_type": "code",
   "execution_count": 11,
   "id": "3ad135a7",
   "metadata": {},
   "outputs": [
    {
     "name": "stdout",
     "output_type": "stream",
     "text": [
      "[False, True, True, False, True, True, True, True, False, True, True, True, True, True, True, False, True, True, True, True, True, True, True, True, False, True, True, True, True, True, True, True, True, True, True, False, True, True, True, True, True, True, True, True, True, True, True, True, False, True, True, True, True, True, True, True, True, True, True, True, True, True, True, False, True, True, True, True, True, True, True, True, True, True, True, True, True, True, True, True, False, True, True, True, True, True, True, True, True, True, True, True, True, True, True, True, True, True, True, False]\n"
     ]
    }
   ],
   "source": [
    "end = 100\n",
    "s =[True for i in range (100)]\n",
    "\n",
    "for i in range(100):\n",
    "    for j in range(len(s)):\n",
    "        if (j+1)%(i+1) ==0:\n",
    "            s[j] = not s[j]\n",
    "\n",
    "print(s)\n"
   ]
  },
  {
   "cell_type": "code",
   "execution_count": 2,
   "id": "3ddf0c43",
   "metadata": {},
   "outputs": [],
   "source": [
    "filename = \"my_first_file.txt\"\n",
    "f = open(filename,\"w\")\n",
    "#WARNING THIS OVERWRITES THE WHOLE FILE IF IT ALREADY EXISTS\n",
    "f.write(\"hello \")\n",
    "f.write(\"world\")\n",
    "f.close()"
   ]
  },
  {
   "cell_type": "code",
   "execution_count": 3,
   "id": "10844245",
   "metadata": {},
   "outputs": [
    {
     "name": "stdout",
     "output_type": "stream",
     "text": [
      "hello world\n"
     ]
    }
   ],
   "source": [
    "g = open(filename,'r')\n",
    "for line in g:\n",
    "    print(line)\n",
    "g.close()"
   ]
  },
  {
   "cell_type": "code",
   "execution_count": 4,
   "id": "1ede0fba",
   "metadata": {},
   "outputs": [],
   "source": [
    "f = open(filename,\"w\")\n",
    "#WARNING THIS OVERWRITES THE WHOLE FILE IF IT ALREADY EXISTS\n",
    "f.write(\"hello\\n\")\n",
    "f.write(\"world\\n\")\n",
    "f.close()"
   ]
  },
  {
   "cell_type": "code",
   "execution_count": 5,
   "id": "68340a26",
   "metadata": {},
   "outputs": [
    {
     "name": "stdout",
     "output_type": "stream",
     "text": [
      "hello\n",
      "world\n"
     ]
    },
    {
     "data": {
      "text/plain": [
       "<function TextIOWrapper.close()>"
      ]
     },
     "execution_count": 5,
     "metadata": {},
     "output_type": "execute_result"
    }
   ],
   "source": [
    "g = open(filename, 'r')\n",
    "for line in g:\n",
    "    print(line, end =\"\")\n",
    "g.close"
   ]
  },
  {
   "cell_type": "code",
   "execution_count": 6,
   "id": "34f05e73",
   "metadata": {},
   "outputs": [
    {
     "name": "stdout",
     "output_type": "stream",
     "text": [
      "hello\n",
      "world\n"
     ]
    }
   ],
   "source": [
    "with open(filename, \"w\") as f:\n",
    "    f.write(\"hello\\n\")\n",
    "    f.write(\"world\\n\")\n",
    "\n",
    "with open(filename, \"r\") as g:\n",
    "    for line in g:\n",
    "        print(line, end = \"\")"
   ]
  },
  {
   "cell_type": "code",
   "execution_count": 16,
   "id": "350987f0",
   "metadata": {},
   "outputs": [],
   "source": [
    "with open(\"processes.txt\", \"r\") as g:\n",
    "    for line in g:\n",
    "        process = line.split(\"]\")[0].split(\" \")\n",
    "        if len(process)>1:\n",
    "            name = \"data/\"+process[1]\n",
    "            with open(name, 'a') as f:\n",
    "                f.write(line.split(\"]\")[1]+\"\\n\")"
   ]
  },
  {
   "cell_type": "code",
   "execution_count": 18,
   "id": "f6259fed",
   "metadata": {},
   "outputs": [
    {
     "data": {
      "text/plain": [
       "3.8333333333333335"
      ]
     },
     "execution_count": 18,
     "metadata": {},
     "output_type": "execute_result"
    }
   ],
   "source": [
    "def mean(numbers):\n",
    "    return(sum(numbers)/len(numbers))\n",
    "\n",
    "mean([1,3,7.5])\n"
   ]
  },
  {
   "cell_type": "code",
   "execution_count": 28,
   "id": "25123185",
   "metadata": {},
   "outputs": [],
   "source": [
    "def median(numbers):\n",
    "    numbers.sort()\n",
    "    if len(numbers)%2==1:\n",
    "        return numbers[int((len(numbers)+1)/2)-1]\n",
    "    else:\n",
    "        return mean([numbers[int(len(numbers)/2)-1], numbers[int(len(numbers)/2)]])"
   ]
  },
  {
   "cell_type": "code",
   "execution_count": 29,
   "id": "4c4908bf",
   "metadata": {},
   "outputs": [
    {
     "data": {
      "text/plain": [
       "3.5"
      ]
     },
     "execution_count": 29,
     "metadata": {},
     "output_type": "execute_result"
    }
   ],
   "source": [
    "median([1,2,3,4,5,6])"
   ]
  },
  {
   "cell_type": "code",
   "execution_count": 40,
   "id": "cc0fec46",
   "metadata": {},
   "outputs": [],
   "source": [
    "def mode(nums):\n",
    "    nums.sort()\n",
    "    maxcounter = 0\n",
    "    maxelt = nums[0]\n",
    "    counter = 0\n",
    "    for i in range(len(nums)):\n",
    "        if i == 0:\n",
    "            counter = counter + 1\n",
    "        elif nums[i] == nums[i-1]:\n",
    "            counter = counter + 1\n",
    "        else:\n",
    "            #print(counter)\n",
    "            if counter > maxcounter:\n",
    "                maxcounter = counter\n",
    "                maxelt = nums[i-1]\n",
    "            #print (maxcounter)\n",
    "            counter = 1\n",
    "\n",
    "    return maxelt"
   ]
  },
  {
   "cell_type": "code",
   "execution_count": 42,
   "id": "7b14215b",
   "metadata": {},
   "outputs": [
    {
     "data": {
      "text/plain": [
       "2"
      ]
     },
     "execution_count": 42,
     "metadata": {},
     "output_type": "execute_result"
    }
   ],
   "source": [
    "mode([1,1,1,1,2,3,9,11,12,12,15])"
   ]
  },
  {
   "cell_type": "code",
   "execution_count": null,
   "id": "b221221c",
   "metadata": {},
   "outputs": [],
   "source": []
  }
 ],
 "metadata": {
  "kernelspec": {
   "display_name": "Python 3 (ipykernel)",
   "language": "python",
   "name": "python3"
  },
  "language_info": {
   "codemirror_mode": {
    "name": "ipython",
    "version": 3
   },
   "file_extension": ".py",
   "mimetype": "text/x-python",
   "name": "python",
   "nbconvert_exporter": "python",
   "pygments_lexer": "ipython3",
   "version": "3.11.5"
  }
 },
 "nbformat": 4,
 "nbformat_minor": 5
}
