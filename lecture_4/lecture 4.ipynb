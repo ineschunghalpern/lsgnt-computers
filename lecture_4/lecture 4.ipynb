{
 "cells": [
  {
   "cell_type": "code",
   "execution_count": 2,
   "id": "e3d21427",
   "metadata": {},
   "outputs": [
    {
     "name": "stdout",
     "output_type": "stream",
     "text": [
      "x is a very long list [1, 3, 5, 7]\n",
      "and now we continue\n"
     ]
    }
   ],
   "source": [
    "x = [1,3,5,7]\n",
    "if len (x) >2:\n",
    "    print(f\"x is a very long list {x}\")\n",
    "          \n",
    "print (\"and now we continue\")"
   ]
  },
  {
   "cell_type": "code",
   "execution_count": 4,
   "id": "7b797e0a",
   "metadata": {},
   "outputs": [
    {
     "name": "stdout",
     "output_type": "stream",
     "text": [
      "x is True\n",
      "y is nonzero\n",
      "and now we carry on\n"
     ]
    }
   ],
   "source": [
    "x = True\n",
    "y = 7\n",
    "if x: \n",
    "    print (\"x is True\")\n",
    "    if y ==0: \n",
    "        print (\"y is zero\")\n",
    "    else: \n",
    "        print(\"y is nonzero\")\n",
    "print(\"and now we carry on\")"
   ]
  },
  {
   "cell_type": "code",
   "execution_count": 5,
   "id": "73936f78",
   "metadata": {},
   "outputs": [
    {
     "name": "stdout",
     "output_type": "stream",
     "text": [
      "x is pos\n",
      "and now we carry on\n"
     ]
    }
   ],
   "source": [
    "if x>0: \n",
    "    print (\"x is pos\")\n",
    "elif x ==0:\n",
    "    print(\"x is zero\")\n",
    "else:\n",
    "    print(\"x is negative\")\n",
    "print(\"and now we carry on\")"
   ]
  },
  {
   "cell_type": "code",
   "execution_count": 7,
   "id": "ed088e9f",
   "metadata": {},
   "outputs": [
    {
     "name": "stdout",
     "output_type": "stream",
     "text": [
      "False\n",
      "False\n"
     ]
    }
   ],
   "source": [
    "x,y = 2,3\n",
    "print(x ==y)\n",
    "z = (x==y)\n",
    "print(z)"
   ]
  },
  {
   "cell_type": "code",
   "execution_count": 8,
   "id": "43c40d73",
   "metadata": {},
   "outputs": [
    {
     "name": "stdout",
     "output_type": "stream",
     "text": [
      "0\n",
      "1\n",
      "2\n",
      "3\n",
      "4\n"
     ]
    }
   ],
   "source": [
    "for i in range (5):\n",
    "    print(i)"
   ]
  },
  {
   "cell_type": "code",
   "execution_count": 9,
   "id": "b0ff112f",
   "metadata": {},
   "outputs": [
    {
     "name": "stdout",
     "output_type": "stream",
     "text": [
      "0 squared is 0\n",
      "1 squared is 1\n",
      "2 squared is 4\n",
      "3 squared is 9\n",
      "4 squared is 16\n"
     ]
    }
   ],
   "source": [
    "for i in range(5):\n",
    "    j = i**2\n",
    "    print (f\"{i} squared is {j}\")"
   ]
  },
  {
   "cell_type": "code",
   "execution_count": 12,
   "id": "1d48fb20",
   "metadata": {},
   "outputs": [
    {
     "name": "stdout",
     "output_type": "stream",
     "text": [
      "fight now i is 5\n",
      "fight now i is 6\n",
      "fight now i is 7\n",
      "fight now i is 8\n",
      "fight now i is 9\n",
      "fight now i is 10\n",
      "fight now i is 11\n"
     ]
    }
   ],
   "source": [
    "i = 5\n",
    "while i<12:\n",
    "    print(f\"fight now i is {i}\")\n",
    "    i +=1"
   ]
  },
  {
   "cell_type": "code",
   "execution_count": null,
   "id": "0c6f0a55",
   "metadata": {},
   "outputs": [],
   "source": [
    "s = "
   ]
  }
 ],
 "metadata": {
  "kernelspec": {
   "display_name": "Python 3 (ipykernel)",
   "language": "python",
   "name": "python3"
  },
  "language_info": {
   "codemirror_mode": {
    "name": "ipython",
    "version": 3
   },
   "file_extension": ".py",
   "mimetype": "text/x-python",
   "name": "python",
   "nbconvert_exporter": "python",
   "pygments_lexer": "ipython3",
   "version": "3.11.5"
  }
 },
 "nbformat": 4,
 "nbformat_minor": 5
}
