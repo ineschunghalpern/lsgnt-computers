{
 "cells": [
  {
   "cell_type": "markdown",
   "metadata": {
    "colab_type": "text",
    "id": "view-in-github"
   },
   "source": [
    "<a href=\"https://colab.research.google.com/github/ineschunghalpern/lsgnt-computers/blob/main/Comp_project/data_crunch.ipynb\" target=\"_parent\"><img src=\"https://colab.research.google.com/assets/colab-badge.svg\" alt=\"Open In Colab\"/></a>"
   ]
  },
  {
   "cell_type": "markdown",
   "metadata": {
    "id": "eyVFcr63-5Kg"
   },
   "source": [
    "*Import packages*"
   ]
  },
  {
   "cell_type": "code",
   "execution_count": null,
   "metadata": {
    "colab": {
     "base_uri": "https://localhost:8080/"
    },
    "id": "8T0Q04-uSoA5",
    "outputId": "03c747d3-0dc4-436d-fdd9-e2ae26a343e9"
   },
   "outputs": [
    {
     "name": "stdout",
     "output_type": "stream",
     "text": [
      "Mounted at /content/drive\n"
     ]
    }
   ],
   "source": [
    "'''from google.colab import drive\n",
    "drive.mount('/content/drive')'''"
   ]
  },
  {
   "cell_type": "code",
   "execution_count": 1,
   "metadata": {
    "id": "LhgEuRqL-5Kk"
   },
   "outputs": [],
   "source": [
    "import numpy as np\n",
    "import pandas as pd\n",
    "import matplotlib.pyplot as plt\n",
    "import os\n",
    "from tqdm import tqdm"
   ]
  },
  {
   "cell_type": "markdown",
   "metadata": {
    "id": "zZozX3A1-5Km"
   },
   "source": [
    "*Test with index 1 Toric log del Pezzo surfaces* - so i dont cry later"
   ]
  },
  {
   "cell_type": "code",
   "execution_count": 2,
   "metadata": {
    "id": "bdRsbzOt-5Kn"
   },
   "outputs": [],
   "source": [
    "#Initialise a Pandas dataframe\n",
    "cols = ['ID', 'Min Loc Index', 'Max Loc Index', 'Local Indices', 'Order', 'Volume', 'Degree', 'Num Vertices', 'Num Boundary', 'Num Interior', 'Vertices', 'Dual', 'Boundary', 'Interior']\n",
    "num_properties = cols[:10]\n",
    "coord_properties = cols[10:]"
   ]
  },
  {
   "cell_type": "code",
   "execution_count": 21,
   "metadata": {
    "id": "DMO-coFb-5Ko"
   },
   "outputs": [],
   "source": [
    "# function that takes in a list of coordinates of vertices as a a string and gives the  coords as a np array of integers.\n",
    "def make_coords(verts):\n",
    "    vertarray = verts.replace('\\n','').replace('(','').replace(')','').split(',')\n",
    "    coordinates = np.array([float(eval(i)) for i in vertarray]).reshape(-1,2)\n",
    "    return coordinates\n",
    "def make_nums(indices):\n",
    "    splitinds = indices.replace('\\n','').split(',')\n",
    "    indarray = np.array([float(eval(i)) for i in splitinds])\n",
    "    if len(indarray) == 1:\n",
    "        return indarray[0]\n",
    "    else:\n",
    "        return indarray\n",
    "\n",
    "def num_or_coords(line): #takes in a line of text pre split into property name and numerical entry\n",
    "  if line[0] in coord_properties:\n",
    "    return make_coords(line[1])\n",
    "  else:\n",
    "    return make_nums(line[1])\n",
    "\n"
   ]
  },
  {
   "cell_type": "code",
   "execution_count": null,
   "metadata": {
    "colab": {
     "base_uri": "https://localhost:8080/"
    },
    "id": "HwwI3CT9Dcwc",
    "outputId": "123a7989-5f89-4cc4-a554-652c86933e17"
   },
   "outputs": [
    {
     "name": "stdout",
     "output_type": "stream",
     "text": [
      "[1. 1. 1. 1. 1.]\n"
     ]
    }
   ],
   "source": [
    "verts = ' (-14, -1), (-6, -1), (0, 1), (1, 0), (5, 1)'\n",
    "make_coords(verts)\n",
    "\n",
    "make_nums(' 1, 1, 1, 1, 1, 1\\n')\n",
    "\n",
    "\n",
    "indices = '1, 1, 1, 1, 1 '\n",
    "list_indices = np.array([float(eval(i)) for i in indices.split(',')])\n",
    "print(list_indices)\n",
    "\n",
    "string = \"Dual: (-1, -2/11), (-1, 0), (0, -1/11), (0, 1), (1, 8/11), (1, 1)\"\n",
    "splat = string.split(':')\n",
    "print(splat)\n",
    "verts = make_coords(string.split(':')[1])\n",
    "print(verts)\n",
    "print(splat[0] in coord_properties)\n",
    "\n",
    "test_ind = 'Local Indices: 1, 1, 1, 8, 8, 16'.split(':')\n",
    "test_coord = 'Boundary: (-15, 16), (-14, 16), (-13, 16), (-12, 16), (-11, 16), (-10, 16), (-9, 16), (-8, 8), (-8, 16), (-7, 16), (-6, 16), (-5, 16), (-4, 16), (-3, 16), (-2, 16), (-1, 0), (-1, 16), (0, -1), (0, 8), (1, -1), (1, 0)'.split(':')\n",
    "\n",
    "res_i = num_or_coords(test_ind)\n",
    "res_c = num_or_coords(test_coord)\n",
    "print(res_i, res_i.shape)\n",
    "print(res_c, res_c.shape)"
   ]
  },
  {
   "cell_type": "code",
   "execution_count": null,
   "metadata": {
    "id": "OIRGKcgVBksu"
   },
   "outputs": [],
   "source": [
    "index_1_data = []"
   ]
  },
  {
   "cell_type": "code",
   "execution_count": null,
   "metadata": {
    "id": "Eu5Pb7gH-5Kp"
   },
   "outputs": [],
   "source": [
    "with open('index_1.txt', 'r') as f:\n",
    "    lines = f.readlines()\n",
    "    #Parse through each line of the text file\n",
    "    surface_data = []\n",
    "    for line in lines:\n",
    "        #check if the line is empty - if yes, add surface to a row in the dataframe and start new entry\n",
    "        if line.strip() == \"\":\n",
    "          # add surface data to db\n",
    "          index_1_data.append(surface_data)\n",
    "          #reset the dummy array\n",
    "          surface_data = []\n",
    "        else:\n",
    "          #split the column name from the data\n",
    "          split_line = line.split(':')\n",
    "          data = num_or_coords(split_line)\n",
    "          # add data into the list for this variety\n",
    "          surface_data.append(data.tolist())\n",
    "\n",
    "db = pd.DataFrame(index_1_data, columns = cols)\n",
    "db.head()"
   ]
  },
  {
   "cell_type": "code",
   "execution_count": null,
   "metadata": {
    "colab": {
     "base_uri": "https://localhost:8080/",
     "height": 868
    },
    "id": "tjB057JcSVIY",
    "outputId": "ce374a0b-83e0-4c36-fa0e-8b8142e7cc6a"
   },
   "outputs": [],
   "source": []
  },
  {
   "cell_type": "code",
   "execution_count": null,
   "metadata": {
    "id": "yYsP10jrYWra"
   },
   "outputs": [],
   "source": [
    "db.to_pickle('index_1_test.pkl')\n",
    "df= pd.read_pickle(\"index_1_test.pkl\")\n",
    "df.head()"
   ]
  },
  {
   "cell_type": "code",
   "execution_count": null,
   "metadata": {
    "colab": {
     "base_uri": "https://localhost:8080/",
     "height": 868
    },
    "id": "pv6_WZmWfE_l",
    "outputId": "96b7ceed-012f-48a8-ab89-6987091d9e6e"
   },
   "outputs": [],
   "source": []
  },
  {
   "cell_type": "markdown",
   "metadata": {
    "id": "Q1jAOw0p-5Kp"
   },
   "source": [
    "## Making the data for real now\n",
    "\n",
    "Loop through each index file, add into a database for each property"
   ]
  },
  {
   "cell_type": "code",
   "execution_count": null,
   "metadata": {
    "id": "7TxPR3Tn-5Kp"
   },
   "outputs": [],
   "source": []
  },
  {
   "cell_type": "code",
   "execution_count": 22,
   "metadata": {
    "id": "rsQl-8KlkwzU"
   },
   "outputs": [],
   "source": [
    "def append_tldp_data(lines, list):\n",
    "    newlist = list\n",
    "    #Parse through each line of the text file\n",
    "    surface_data = []\n",
    "    for line in lines:\n",
    "        #check if the line is empty - if yes, add surface to a row in the dataframe and start new entry\n",
    "        if line.strip() == \"\":\n",
    "          # add surface data to db\n",
    "          newlist.append(surface_data)\n",
    "          #reset the dummy array\n",
    "          surface_data = []\n",
    "        else:\n",
    "          #split the column name from the data\n",
    "          split_line = line.split(':')\n",
    "          data = num_or_coords(split_line)\n",
    "          # add data into the list for this variety\n",
    "          surface_data.append(data.tolist())\n",
    "    return newlist"
   ]
  },
  {
   "cell_type": "code",
   "execution_count": 23,
   "metadata": {
    "id": "vzuWLblEm51-"
   },
   "outputs": [
    {
     "name": "stderr",
     "output_type": "stream",
     "text": [
      "100%|██████████| 17/17 [00:10<00:00,  1.25it/s]\n"
     ]
    }
   ],
   "source": [
    "directory = 'tldp_data_by_index'\n",
    "tldp_data = []\n",
    "for filename in tqdm(os.listdir(directory)):\n",
    "    file = os.path.join(directory, filename)\n",
    "    # checking if it is a file\n",
    "    if os.path.isfile(file):\n",
    "        with open(directory +'/'+ filename, 'r') as f:\n",
    "            lines = f.readlines()\n",
    "            tldp_data = append_tldp_data(lines, tldp_data)"
   ]
  },
  {
   "cell_type": "code",
   "execution_count": 24,
   "metadata": {},
   "outputs": [
    {
     "name": "stdout",
     "output_type": "stream",
     "text": [
      "<class 'pandas.core.frame.DataFrame'>\n",
      "RangeIndex: 15346 entries, 0 to 15345\n",
      "Data columns (total 14 columns):\n",
      "ID               15346 non-null float64\n",
      "Min Loc Index    15346 non-null float64\n",
      "Max Loc Index    15346 non-null float64\n",
      "Local Indices    15346 non-null object\n",
      "Order            15346 non-null float64\n",
      "Volume           15346 non-null float64\n",
      "Degree           15346 non-null float64\n",
      "Num Vertices     15346 non-null float64\n",
      "Num Boundary     15346 non-null float64\n",
      "Num Interior     15346 non-null float64\n",
      "Vertices         15346 non-null object\n",
      "Dual             15346 non-null object\n",
      "Boundary         15346 non-null object\n",
      "Interior         15346 non-null object\n",
      "dtypes: float64(9), object(5)\n",
      "memory usage: 1.6+ MB\n",
      "None\n"
     ]
    },
    {
     "data": {
      "text/html": [
       "<div>\n",
       "<style scoped>\n",
       "    .dataframe tbody tr th:only-of-type {\n",
       "        vertical-align: middle;\n",
       "    }\n",
       "\n",
       "    .dataframe tbody tr th {\n",
       "        vertical-align: top;\n",
       "    }\n",
       "\n",
       "    .dataframe thead th {\n",
       "        text-align: right;\n",
       "    }\n",
       "</style>\n",
       "<table border=\"1\" class=\"dataframe\">\n",
       "  <thead>\n",
       "    <tr style=\"text-align: right;\">\n",
       "      <th></th>\n",
       "      <th>ID</th>\n",
       "      <th>Min Loc Index</th>\n",
       "      <th>Max Loc Index</th>\n",
       "      <th>Local Indices</th>\n",
       "      <th>Order</th>\n",
       "      <th>Volume</th>\n",
       "      <th>Degree</th>\n",
       "      <th>Num Vertices</th>\n",
       "      <th>Num Boundary</th>\n",
       "      <th>Num Interior</th>\n",
       "      <th>Vertices</th>\n",
       "      <th>Dual</th>\n",
       "      <th>Boundary</th>\n",
       "      <th>Interior</th>\n",
       "    </tr>\n",
       "  </thead>\n",
       "  <tbody>\n",
       "    <tr>\n",
       "      <th>0</th>\n",
       "      <td>14350.0</td>\n",
       "      <td>1.0</td>\n",
       "      <td>8.0</td>\n",
       "      <td>[1.0, 1.0, 1.0, 4.0, 4.0, 8.0]</td>\n",
       "      <td>4.0</td>\n",
       "      <td>67.0</td>\n",
       "      <td>2.75</td>\n",
       "      <td>6.0</td>\n",
       "      <td>13.0</td>\n",
       "      <td>28.0</td>\n",
       "      <td>[[-7.0, 8.0], [-1.0, 0.0], [-1.0, 8.0], [0.0, ...</td>\n",
       "      <td>[[-1.0, -0.25], [-1.0, 0.0], [0.0, -0.125], [0...</td>\n",
       "      <td>[[-7.0, 8.0], [-6.0, 8.0], [-5.0, 8.0], [-4.0,...</td>\n",
       "      <td>[[-6.0, 7.0], [-5.0, 6.0], [-5.0, 7.0], [-4.0,...</td>\n",
       "    </tr>\n",
       "    <tr>\n",
       "      <th>1</th>\n",
       "      <td>14351.0</td>\n",
       "      <td>1.0</td>\n",
       "      <td>8.0</td>\n",
       "      <td>[1.0, 1.0, 1.0, 2.0, 4.0, 8.0]</td>\n",
       "      <td>4.0</td>\n",
       "      <td>51.0</td>\n",
       "      <td>3.00</td>\n",
       "      <td>6.0</td>\n",
       "      <td>13.0</td>\n",
       "      <td>20.0</td>\n",
       "      <td>[[-5.0, -12.0], [-1.0, -4.0], [-1.0, 4.0], [0....</td>\n",
       "      <td>[[-4.0, 1.0], [-3.0, 1.0], [-1.0, 0.0], [-1.0,...</td>\n",
       "      <td>[[-5.0, -12.0], [-4.0, -10.0], [-4.0, -8.0], [...</td>\n",
       "      <td>[[-4.0, -9.0], [-3.0, -7.0], [-3.0, -6.0], [-3...</td>\n",
       "    </tr>\n",
       "    <tr>\n",
       "      <th>2</th>\n",
       "      <td>14352.0</td>\n",
       "      <td>1.0</td>\n",
       "      <td>8.0</td>\n",
       "      <td>[1.0, 1.0, 1.0, 2.0, 2.0, 8.0]</td>\n",
       "      <td>4.0</td>\n",
       "      <td>35.0</td>\n",
       "      <td>3.25</td>\n",
       "      <td>6.0</td>\n",
       "      <td>13.0</td>\n",
       "      <td>12.0</td>\n",
       "      <td>[[-7.0, -2.0], [-1.0, -2.0], [-1.0, 2.0], [0.0...</td>\n",
       "      <td>[[-2.0, 1.0], [-1.0, 0.0], [-1.0, 1.0], [0.0, ...</td>\n",
       "      <td>[[-7.0, -2.0], [-6.0, -2.0], [-5.0, -2.0], [-4...</td>\n",
       "      <td>[[-5.0, -1.0], [-4.0, -1.0], [-3.0, -1.0], [-3...</td>\n",
       "    </tr>\n",
       "    <tr>\n",
       "      <th>3</th>\n",
       "      <td>14353.0</td>\n",
       "      <td>1.0</td>\n",
       "      <td>8.0</td>\n",
       "      <td>[1.0, 1.0, 1.0, 2.0, 2.0, 8.0]</td>\n",
       "      <td>4.0</td>\n",
       "      <td>35.0</td>\n",
       "      <td>3.25</td>\n",
       "      <td>6.0</td>\n",
       "      <td>13.0</td>\n",
       "      <td>12.0</td>\n",
       "      <td>[[-7.0, -2.0], [-3.0, -2.0], [-1.0, -1.0], [-1...</td>\n",
       "      <td>[[-2.0, 3.0], [-1.0, 1.0], [-1.0, 2.0], [0.0, ...</td>\n",
       "      <td>[[-7.0, -2.0], [-6.0, -2.0], [-5.0, -2.0], [-4...</td>\n",
       "      <td>[[-5.0, -1.0], [-4.0, -1.0], [-3.0, -1.0], [-3...</td>\n",
       "    </tr>\n",
       "    <tr>\n",
       "      <th>4</th>\n",
       "      <td>14354.0</td>\n",
       "      <td>1.0</td>\n",
       "      <td>8.0</td>\n",
       "      <td>[1.0, 1.0, 1.0, 4.0, 4.0, 8.0]</td>\n",
       "      <td>4.0</td>\n",
       "      <td>35.0</td>\n",
       "      <td>3.25</td>\n",
       "      <td>6.0</td>\n",
       "      <td>9.0</td>\n",
       "      <td>14.0</td>\n",
       "      <td>[[-3.0, -4.0], [-1.0, -4.0], [-1.0, 4.0], [0.0...</td>\n",
       "      <td>[[-4.0, 1.0], [-3.0, 1.0], [-1.0, 0.0], [0.0, ...</td>\n",
       "      <td>[[-3.0, -4.0], [-2.0, -4.0], [-2.0, 0.0], [-1....</td>\n",
       "      <td>[[-2.0, -3.0], [-2.0, -2.0], [-2.0, -1.0], [-1...</td>\n",
       "    </tr>\n",
       "  </tbody>\n",
       "</table>\n",
       "</div>"
      ],
      "text/plain": [
       "        ID  Min Loc Index  Max Loc Index                   Local Indices  \\\n",
       "0  14350.0            1.0            8.0  [1.0, 1.0, 1.0, 4.0, 4.0, 8.0]   \n",
       "1  14351.0            1.0            8.0  [1.0, 1.0, 1.0, 2.0, 4.0, 8.0]   \n",
       "2  14352.0            1.0            8.0  [1.0, 1.0, 1.0, 2.0, 2.0, 8.0]   \n",
       "3  14353.0            1.0            8.0  [1.0, 1.0, 1.0, 2.0, 2.0, 8.0]   \n",
       "4  14354.0            1.0            8.0  [1.0, 1.0, 1.0, 4.0, 4.0, 8.0]   \n",
       "\n",
       "   Order  Volume  Degree  Num Vertices  Num Boundary  Num Interior  \\\n",
       "0    4.0    67.0    2.75           6.0          13.0          28.0   \n",
       "1    4.0    51.0    3.00           6.0          13.0          20.0   \n",
       "2    4.0    35.0    3.25           6.0          13.0          12.0   \n",
       "3    4.0    35.0    3.25           6.0          13.0          12.0   \n",
       "4    4.0    35.0    3.25           6.0           9.0          14.0   \n",
       "\n",
       "                                            Vertices  \\\n",
       "0  [[-7.0, 8.0], [-1.0, 0.0], [-1.0, 8.0], [0.0, ...   \n",
       "1  [[-5.0, -12.0], [-1.0, -4.0], [-1.0, 4.0], [0....   \n",
       "2  [[-7.0, -2.0], [-1.0, -2.0], [-1.0, 2.0], [0.0...   \n",
       "3  [[-7.0, -2.0], [-3.0, -2.0], [-1.0, -1.0], [-1...   \n",
       "4  [[-3.0, -4.0], [-1.0, -4.0], [-1.0, 4.0], [0.0...   \n",
       "\n",
       "                                                Dual  \\\n",
       "0  [[-1.0, -0.25], [-1.0, 0.0], [0.0, -0.125], [0...   \n",
       "1  [[-4.0, 1.0], [-3.0, 1.0], [-1.0, 0.0], [-1.0,...   \n",
       "2  [[-2.0, 1.0], [-1.0, 0.0], [-1.0, 1.0], [0.0, ...   \n",
       "3  [[-2.0, 3.0], [-1.0, 1.0], [-1.0, 2.0], [0.0, ...   \n",
       "4  [[-4.0, 1.0], [-3.0, 1.0], [-1.0, 0.0], [0.0, ...   \n",
       "\n",
       "                                            Boundary  \\\n",
       "0  [[-7.0, 8.0], [-6.0, 8.0], [-5.0, 8.0], [-4.0,...   \n",
       "1  [[-5.0, -12.0], [-4.0, -10.0], [-4.0, -8.0], [...   \n",
       "2  [[-7.0, -2.0], [-6.0, -2.0], [-5.0, -2.0], [-4...   \n",
       "3  [[-7.0, -2.0], [-6.0, -2.0], [-5.0, -2.0], [-4...   \n",
       "4  [[-3.0, -4.0], [-2.0, -4.0], [-2.0, 0.0], [-1....   \n",
       "\n",
       "                                            Interior  \n",
       "0  [[-6.0, 7.0], [-5.0, 6.0], [-5.0, 7.0], [-4.0,...  \n",
       "1  [[-4.0, -9.0], [-3.0, -7.0], [-3.0, -6.0], [-3...  \n",
       "2  [[-5.0, -1.0], [-4.0, -1.0], [-3.0, -1.0], [-3...  \n",
       "3  [[-5.0, -1.0], [-4.0, -1.0], [-3.0, -1.0], [-3...  \n",
       "4  [[-2.0, -3.0], [-2.0, -2.0], [-2.0, -1.0], [-1...  "
      ]
     },
     "execution_count": 24,
     "metadata": {},
     "output_type": "execute_result"
    }
   ],
   "source": [
    "tldp_db = pd.DataFrame(tldp_data, columns = cols)\n",
    "print(tldp_db.info())\n",
    "tldp_db.head()"
   ]
  },
  {
   "cell_type": "code",
   "execution_count": 25,
   "metadata": {},
   "outputs": [
    {
     "data": {
      "text/html": [
       "<div>\n",
       "<style scoped>\n",
       "    .dataframe tbody tr th:only-of-type {\n",
       "        vertical-align: middle;\n",
       "    }\n",
       "\n",
       "    .dataframe tbody tr th {\n",
       "        vertical-align: top;\n",
       "    }\n",
       "\n",
       "    .dataframe thead th {\n",
       "        text-align: right;\n",
       "    }\n",
       "</style>\n",
       "<table border=\"1\" class=\"dataframe\">\n",
       "  <thead>\n",
       "    <tr style=\"text-align: right;\">\n",
       "      <th></th>\n",
       "      <th>ID</th>\n",
       "      <th>Min Loc Index</th>\n",
       "      <th>Max Loc Index</th>\n",
       "      <th>Local Indices</th>\n",
       "      <th>Order</th>\n",
       "      <th>Volume</th>\n",
       "      <th>Degree</th>\n",
       "      <th>Num Vertices</th>\n",
       "      <th>Num Boundary</th>\n",
       "      <th>Num Interior</th>\n",
       "      <th>Vertices</th>\n",
       "      <th>Dual</th>\n",
       "      <th>Boundary</th>\n",
       "      <th>Interior</th>\n",
       "    </tr>\n",
       "  </thead>\n",
       "  <tbody>\n",
       "    <tr>\n",
       "      <th>997</th>\n",
       "      <td>1.0</td>\n",
       "      <td>1.0</td>\n",
       "      <td>1.0</td>\n",
       "      <td>[1.0, 1.0, 1.0, 1.0, 1.0, 1.0]</td>\n",
       "      <td>1.0</td>\n",
       "      <td>6.0</td>\n",
       "      <td>6.0</td>\n",
       "      <td>6.0</td>\n",
       "      <td>6.0</td>\n",
       "      <td>1.0</td>\n",
       "      <td>[[-1.0, -1.0], [-1.0, 0.0], [0.0, -1.0], [0.0,...</td>\n",
       "      <td>[[-1.0, 0.0], [-1.0, 1.0], [0.0, -1.0], [0.0, ...</td>\n",
       "      <td>[[-1.0, -1.0], [-1.0, 0.0], [0.0, -1.0], [0.0,...</td>\n",
       "      <td>[[0.0, 0.0]]</td>\n",
       "    </tr>\n",
       "  </tbody>\n",
       "</table>\n",
       "</div>"
      ],
      "text/plain": [
       "      ID  Min Loc Index  Max Loc Index                   Local Indices  Order  \\\n",
       "997  1.0            1.0            1.0  [1.0, 1.0, 1.0, 1.0, 1.0, 1.0]    1.0   \n",
       "\n",
       "     Volume  Degree  Num Vertices  Num Boundary  Num Interior  \\\n",
       "997     6.0     6.0           6.0           6.0           1.0   \n",
       "\n",
       "                                              Vertices  \\\n",
       "997  [[-1.0, -1.0], [-1.0, 0.0], [0.0, -1.0], [0.0,...   \n",
       "\n",
       "                                                  Dual  \\\n",
       "997  [[-1.0, 0.0], [-1.0, 1.0], [0.0, -1.0], [0.0, ...   \n",
       "\n",
       "                                              Boundary      Interior  \n",
       "997  [[-1.0, -1.0], [-1.0, 0.0], [0.0, -1.0], [0.0,...  [[0.0, 0.0]]  "
      ]
     },
     "execution_count": 25,
     "metadata": {},
     "output_type": "execute_result"
    }
   ],
   "source": [
    "tldp_db.loc[tldp_db['ID'] == 1.0]"
   ]
  },
  {
   "cell_type": "code",
   "execution_count": null,
   "metadata": {
    "id": "Zr2Wk4aRnpDY"
   },
   "outputs": [],
   "source": [
    "tldp_db.to_pickle('tldp_dataframe_og.pkl')"
   ]
  }
 ],
 "metadata": {
  "colab": {
   "include_colab_link": true,
   "provenance": []
  },
  "kernelspec": {
   "display_name": "Python 3",
   "language": "python",
   "name": "python3"
  },
  "language_info": {
   "codemirror_mode": {
    "name": "ipython",
    "version": 3
   },
   "file_extension": ".py",
   "mimetype": "text/x-python",
   "name": "python",
   "nbconvert_exporter": "python",
   "pygments_lexer": "ipython3",
   "version": "3.6.8"
  }
 },
 "nbformat": 4,
 "nbformat_minor": 1
}
