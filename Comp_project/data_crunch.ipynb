{
 "cells": [
  {
   "cell_type": "markdown",
   "metadata": {},
   "source": [
    "*Import packages*"
   ]
  },
  {
   "cell_type": "code",
   "execution_count": 1,
   "metadata": {},
   "outputs": [],
   "source": [
    "import numpy as np\n",
    "import pandas as pd\n",
    "import matplotlib.pyplot as plt\n",
    "import os\n",
    "from tqdm import tqdm"
   ]
  },
  {
   "cell_type": "markdown",
   "metadata": {},
   "source": [
    "*Test with index 1 Toric log del Pezzo surfaces* - so i dont cry later"
   ]
  },
  {
   "cell_type": "code",
   "execution_count": 3,
   "metadata": {},
   "outputs": [
    {
     "data": {
      "text/html": [
       "<div>\n",
       "<style scoped>\n",
       "    .dataframe tbody tr th:only-of-type {\n",
       "        vertical-align: middle;\n",
       "    }\n",
       "\n",
       "    .dataframe tbody tr th {\n",
       "        vertical-align: top;\n",
       "    }\n",
       "\n",
       "    .dataframe thead th {\n",
       "        text-align: right;\n",
       "    }\n",
       "</style>\n",
       "<table border=\"1\" class=\"dataframe\">\n",
       "  <thead>\n",
       "    <tr style=\"text-align: right;\">\n",
       "      <th></th>\n",
       "      <th>ID</th>\n",
       "      <th>min loc index</th>\n",
       "      <th>max loc index</th>\n",
       "      <th>local indices</th>\n",
       "      <th>order</th>\n",
       "      <th>volume</th>\n",
       "      <th>degree</th>\n",
       "      <th>num vertices</th>\n",
       "      <th>num boundary</th>\n",
       "      <th>num interior</th>\n",
       "      <th>vertices</th>\n",
       "      <th>dual</th>\n",
       "      <th>boundary</th>\n",
       "      <th>interior</th>\n",
       "    </tr>\n",
       "  </thead>\n",
       "  <tbody>\n",
       "  </tbody>\n",
       "</table>\n",
       "</div>"
      ],
      "text/plain": [
       "Empty DataFrame\n",
       "Columns: [ID, min loc index, max loc index, local indices, order, volume, degree, num vertices, num boundary, num interior, vertices, dual, boundary, interior]\n",
       "Index: []"
      ]
     },
     "execution_count": 3,
     "metadata": {},
     "output_type": "execute_result"
    }
   ],
   "source": [
    "#Initialise a Pandas dataframe\n",
    "cols = ['ID', 'Min Loc Index', 'Max Loc Index', 'Local Indices', 'Order', 'Volume', 'Degree', 'Num vertices', 'num boundary', 'num interior', 'vertices', 'dual', 'boundary', 'interior']\n",
    "\n",
    "df = pd.DataFrame([], columns=cols)\n",
    "df"
   ]
  },
  {
   "cell_type": "code",
   "execution_count": null,
   "metadata": {},
   "outputs": [],
   "source": [
    "# function that takes in a list of \n",
    "verts = ' (-14, -1), (-6, -1), (0, 1), (1, 0), (5, 1)'\n",
    "vertarray = "
   ]
  },
  {
   "cell_type": "code",
   "execution_count": null,
   "metadata": {},
   "outputs": [],
   "source": [
    "with open('tldp_data_by_index/index_1.txt', 'r') as f:\n",
    "    lines = f.readlines()\n",
    "    #Parse through each line of the text file\n",
    "    surface_data = []\n",
    "    for line in lines: \n",
    "        #split the column name from the data\n",
    "        split_line = line.split(':')\n",
    "        # add data into the list for this variety\n",
    "        surface_data.append([split_line[0], split_line[1]])\n",
    "\n",
    "        #check if the line is empty - if yes, add surface to a row in the dataframe and start new entry\n",
    "        if line.strip() == \"\":\n",
    "            data\n"
   ]
  },
  {
   "cell_type": "markdown",
   "metadata": {},
   "source": [
    "*Create the database*\n",
    "\n",
    "Loop through each index file, add into a database for each property"
   ]
  },
  {
   "cell_type": "code",
   "execution_count": null,
   "metadata": {},
   "outputs": [],
   "source": [
    "directory = 'tldp_data_by_index'\n",
    "\n",
    "for filename in os.listdir(directory):\n",
    "    file = os.path.join(directory, filename)\n",
    "    # checking if it is a file\n",
    "    if os.path.isfile(file):\n",
    "        with open(f, 'r') as f:\n",
    "            lines = f.readlines()\n",
    "            for line in lines: \n",
    "                \n"
   ]
  }
 ],
 "metadata": {
  "kernelspec": {
   "display_name": "base",
   "language": "python",
   "name": "python3"
  },
  "language_info": {
   "codemirror_mode": {
    "name": "ipython",
    "version": 3
   },
   "file_extension": ".py",
   "mimetype": "text/x-python",
   "name": "python",
   "nbconvert_exporter": "python",
   "pygments_lexer": "ipython3",
   "version": "3.11.5"
  }
 },
 "nbformat": 4,
 "nbformat_minor": 2
}
