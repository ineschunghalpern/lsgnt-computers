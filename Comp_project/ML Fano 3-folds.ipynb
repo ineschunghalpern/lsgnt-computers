{
 "cells": [
  {
   "cell_type": "markdown",
   "metadata": {
    "colab_type": "text",
    "id": "view-in-github"
   },
   "source": [
    "<a href=\"https://colab.research.google.com/github/ineschunghalpern/lsgnt-computers/blob/main/Comp_project/data_crunch.ipynb\" target=\"_parent\"><img src=\"https://colab.research.google.com/assets/colab-badge.svg\" alt=\"Open In Colab\"/></a>"
   ]
  },
  {
   "cell_type": "markdown",
   "metadata": {
    "id": "eyVFcr63-5Kg"
   },
   "source": [
    "*Import packages*"
   ]
  },
  {
   "cell_type": "code",
   "execution_count": 22,
   "metadata": {
    "colab": {
     "base_uri": "https://localhost:8080/"
    },
    "id": "8T0Q04-uSoA5",
    "outputId": "03c747d3-0dc4-436d-fdd9-e2ae26a343e9"
   },
   "outputs": [],
   "source": [
    "import tensorflow as tf"
   ]
  },
  {
   "cell_type": "code",
   "execution_count": 1,
   "metadata": {
    "id": "LhgEuRqL-5Kk"
   },
   "outputs": [],
   "source": [
    "import numpy as np\n",
    "import pandas as pd\n",
    "import matplotlib.pyplot as plt\n",
    "import os\n",
    "from tqdm import tqdm\n",
    "import sqlite3"
   ]
  },
  {
   "cell_type": "code",
   "execution_count": 37,
   "metadata": {},
   "outputs": [],
   "source": [
    "import re\n",
    "from sympy import sympify, Poly, var"
   ]
  },
  {
   "cell_type": "code",
   "execution_count": 12,
   "metadata": {},
   "outputs": [],
   "source": [
    "cat fanothreefolds/fano3.sql fanothreefolds/matchmaker.sql | sqlite3 fano3.db"
   ]
  },
  {
   "cell_type": "code",
   "execution_count": 13,
   "metadata": {},
   "outputs": [],
   "source": [
    "connection = sqlite3.connect(\"fano3.db\")"
   ]
  },
  {
   "cell_type": "code",
   "execution_count": 16,
   "metadata": {},
   "outputs": [],
   "source": [
    " df = pd.read_sql('SELECT * FROM fano3', connection)"
   ]
  },
  {
   "cell_type": "code",
   "execution_count": 17,
   "metadata": {},
   "outputs": [
    {
     "data": {
      "text/html": [
       "<div>\n",
       "<style scoped>\n",
       "    .dataframe tbody tr th:only-of-type {\n",
       "        vertical-align: middle;\n",
       "    }\n",
       "\n",
       "    .dataframe tbody tr th {\n",
       "        vertical-align: top;\n",
       "    }\n",
       "\n",
       "    .dataframe thead th {\n",
       "        text-align: right;\n",
       "    }\n",
       "</style>\n",
       "<table border=\"1\" class=\"dataframe\">\n",
       "  <thead>\n",
       "    <tr style=\"text-align: right;\">\n",
       "      <th></th>\n",
       "      <th>id</th>\n",
       "      <th>weights</th>\n",
       "      <th>has_elephant</th>\n",
       "      <th>genus</th>\n",
       "      <th>h1</th>\n",
       "      <th>h2</th>\n",
       "      <th>h3</th>\n",
       "      <th>h4</th>\n",
       "      <th>h5</th>\n",
       "      <th>h6</th>\n",
       "      <th>...</th>\n",
       "      <th>numerator</th>\n",
       "      <th>codimension</th>\n",
       "      <th>basket</th>\n",
       "      <th>basket_size</th>\n",
       "      <th>equation_degrees</th>\n",
       "      <th>degree</th>\n",
       "      <th>k3_rank</th>\n",
       "      <th>bogomolov</th>\n",
       "      <th>kawamata</th>\n",
       "      <th>stable</th>\n",
       "    </tr>\n",
       "  </thead>\n",
       "  <tbody>\n",
       "    <tr>\n",
       "      <th>0</th>\n",
       "      <td>1</td>\n",
       "      <td>5,6,7,8,8,9,9,10,10,10,11,11,11,12,12,12,12,13...</td>\n",
       "      <td>0</td>\n",
       "      <td>-2</td>\n",
       "      <td>0</td>\n",
       "      <td>0</td>\n",
       "      <td>0</td>\n",
       "      <td>0</td>\n",
       "      <td>1</td>\n",
       "      <td>1</td>\n",
       "      <td>...</td>\n",
       "      <td>t^317 - t^300 - 6*t^299 - 9*t^298 - 16*t^297 -...</td>\n",
       "      <td>24</td>\n",
       "      <td>1/2(1,1,1),1/2(1,1,1),1/3(1,1,2),1/4(1,1,3),1/...</td>\n",
       "      <td>7</td>\n",
       "      <td>17,18,18,18,18,18,18,19,19,19,19,19,19,19,19,1...</td>\n",
       "      <td>1/60</td>\n",
       "      <td>19</td>\n",
       "      <td>-8/15</td>\n",
       "      <td>1429/60</td>\n",
       "      <td>1</td>\n",
       "    </tr>\n",
       "    <tr>\n",
       "      <th>1</th>\n",
       "      <td>2</td>\n",
       "      <td>4,6,7,8,9,9,10,10,11,11,12,12,13,13,14,14,15,15</td>\n",
       "      <td>0</td>\n",
       "      <td>-2</td>\n",
       "      <td>0</td>\n",
       "      <td>0</td>\n",
       "      <td>0</td>\n",
       "      <td>1</td>\n",
       "      <td>0</td>\n",
       "      <td>1</td>\n",
       "      <td>...</td>\n",
       "      <td>t^192 - 3*t^174 - 4*t^173 - 7*t^172 - 8*t^171 ...</td>\n",
       "      <td>14</td>\n",
       "      <td>1/2(1,1,1),1/2(1,1,1),1/2(1,1,1),1/2(1,1,1),1/...</td>\n",
       "      <td>9</td>\n",
       "      <td>18,18,18,19,19,19,19,20,20,20,20,20,20,20,21,2...</td>\n",
       "      <td>1/84</td>\n",
       "      <td>18</td>\n",
       "      <td>-5/3</td>\n",
       "      <td>1969/84</td>\n",
       "      <td>1</td>\n",
       "    </tr>\n",
       "    <tr>\n",
       "      <th>2</th>\n",
       "      <td>3</td>\n",
       "      <td>4,6,7,8,9,9,10,10,11,11,11,12,12,12,13,13,13,1...</td>\n",
       "      <td>0</td>\n",
       "      <td>-2</td>\n",
       "      <td>0</td>\n",
       "      <td>0</td>\n",
       "      <td>0</td>\n",
       "      <td>1</td>\n",
       "      <td>0</td>\n",
       "      <td>1</td>\n",
       "      <td>...</td>\n",
       "      <td>t^273 - 3*t^255 - 5*t^254 - 10*t^253 - 13*t^25...</td>\n",
       "      <td>20</td>\n",
       "      <td>1/2(1,1,1),1/2(1,1,1),1/2(1,1,1),1/2(1,1,1),1/...</td>\n",
       "      <td>8</td>\n",
       "      <td>18,18,18,19,19,19,19,19,20,20,20,20,20,20,20,2...</td>\n",
       "      <td>1/66</td>\n",
       "      <td>19</td>\n",
       "      <td>-25/33</td>\n",
       "      <td>1567/66</td>\n",
       "      <td>1</td>\n",
       "    </tr>\n",
       "    <tr>\n",
       "      <th>3</th>\n",
       "      <td>4</td>\n",
       "      <td>4,6,7,8,9,9,10,10,10,11,11,11,12,12,12,13,13,1...</td>\n",
       "      <td>0</td>\n",
       "      <td>-2</td>\n",
       "      <td>0</td>\n",
       "      <td>0</td>\n",
       "      <td>0</td>\n",
       "      <td>1</td>\n",
       "      <td>0</td>\n",
       "      <td>1</td>\n",
       "      <td>...</td>\n",
       "      <td>t^296 - 4*t^278 - 7*t^277 - 12*t^276 - 16*t^27...</td>\n",
       "      <td>22</td>\n",
       "      <td>1/2(1,1,1),1/2(1,1,1),1/2(1,1,1),1/2(1,1,1),1/...</td>\n",
       "      <td>8</td>\n",
       "      <td>18,18,18,18,19,19,19,19,19,19,19,20,20,20,20,2...</td>\n",
       "      <td>1/60</td>\n",
       "      <td>19</td>\n",
       "      <td>-8/15</td>\n",
       "      <td>1429/60</td>\n",
       "      <td>1</td>\n",
       "    </tr>\n",
       "    <tr>\n",
       "      <th>4</th>\n",
       "      <td>5</td>\n",
       "      <td>4,6,7,7,8,8,9,9,9,10,10,10,10,11,11,11,11,12,1...</td>\n",
       "      <td>0</td>\n",
       "      <td>-2</td>\n",
       "      <td>0</td>\n",
       "      <td>0</td>\n",
       "      <td>0</td>\n",
       "      <td>1</td>\n",
       "      <td>0</td>\n",
       "      <td>1</td>\n",
       "      <td>...</td>\n",
       "      <td>t^322 - 3*t^306 - 6*t^305 - 14*t^304 - 20*t^30...</td>\n",
       "      <td>26</td>\n",
       "      <td>1/2(1,1,1),1/2(1,1,1),1/2(1,1,1),1/2(1,1,1),1/...</td>\n",
       "      <td>8</td>\n",
       "      <td>16,16,16,17,17,17,17,17,17,18,18,18,18,18,18,1...</td>\n",
       "      <td>1/42</td>\n",
       "      <td>19</td>\n",
       "      <td>-1/3</td>\n",
       "      <td>1003/42</td>\n",
       "      <td>1</td>\n",
       "    </tr>\n",
       "  </tbody>\n",
       "</table>\n",
       "<p>5 rows × 24 columns</p>\n",
       "</div>"
      ],
      "text/plain": [
       "   id                                            weights  has_elephant  genus  \\\n",
       "0   1  5,6,7,8,8,9,9,10,10,10,11,11,11,12,12,12,12,13...             0     -2   \n",
       "1   2    4,6,7,8,9,9,10,10,11,11,12,12,13,13,14,14,15,15             0     -2   \n",
       "2   3  4,6,7,8,9,9,10,10,11,11,11,12,12,12,13,13,13,1...             0     -2   \n",
       "3   4  4,6,7,8,9,9,10,10,10,11,11,11,12,12,12,13,13,1...             0     -2   \n",
       "4   5  4,6,7,7,8,8,9,9,9,10,10,10,10,11,11,11,11,12,1...             0     -2   \n",
       "\n",
       "   h1  h2  h3  h4  h5  h6  ...  \\\n",
       "0   0   0   0   0   1   1  ...   \n",
       "1   0   0   0   1   0   1  ...   \n",
       "2   0   0   0   1   0   1  ...   \n",
       "3   0   0   0   1   0   1  ...   \n",
       "4   0   0   0   1   0   1  ...   \n",
       "\n",
       "                                           numerator  codimension  \\\n",
       "0  t^317 - t^300 - 6*t^299 - 9*t^298 - 16*t^297 -...           24   \n",
       "1  t^192 - 3*t^174 - 4*t^173 - 7*t^172 - 8*t^171 ...           14   \n",
       "2  t^273 - 3*t^255 - 5*t^254 - 10*t^253 - 13*t^25...           20   \n",
       "3  t^296 - 4*t^278 - 7*t^277 - 12*t^276 - 16*t^27...           22   \n",
       "4  t^322 - 3*t^306 - 6*t^305 - 14*t^304 - 20*t^30...           26   \n",
       "\n",
       "                                              basket  basket_size  \\\n",
       "0  1/2(1,1,1),1/2(1,1,1),1/3(1,1,2),1/4(1,1,3),1/...            7   \n",
       "1  1/2(1,1,1),1/2(1,1,1),1/2(1,1,1),1/2(1,1,1),1/...            9   \n",
       "2  1/2(1,1,1),1/2(1,1,1),1/2(1,1,1),1/2(1,1,1),1/...            8   \n",
       "3  1/2(1,1,1),1/2(1,1,1),1/2(1,1,1),1/2(1,1,1),1/...            8   \n",
       "4  1/2(1,1,1),1/2(1,1,1),1/2(1,1,1),1/2(1,1,1),1/...            8   \n",
       "\n",
       "                                    equation_degrees  degree k3_rank  \\\n",
       "0  17,18,18,18,18,18,18,19,19,19,19,19,19,19,19,1...    1/60      19   \n",
       "1  18,18,18,19,19,19,19,20,20,20,20,20,20,20,21,2...    1/84      18   \n",
       "2  18,18,18,19,19,19,19,19,20,20,20,20,20,20,20,2...    1/66      19   \n",
       "3  18,18,18,18,19,19,19,19,19,19,19,20,20,20,20,2...    1/60      19   \n",
       "4  16,16,16,17,17,17,17,17,17,18,18,18,18,18,18,1...    1/42      19   \n",
       "\n",
       "   bogomolov kawamata stable  \n",
       "0      -8/15  1429/60      1  \n",
       "1       -5/3  1969/84      1  \n",
       "2     -25/33  1567/66      1  \n",
       "3      -8/15  1429/60      1  \n",
       "4       -1/3  1003/42      1  \n",
       "\n",
       "[5 rows x 24 columns]"
      ]
     },
     "execution_count": 17,
     "metadata": {},
     "output_type": "execute_result"
    }
   ],
   "source": [
    "df.head()"
   ]
  },
  {
   "cell_type": "code",
   "execution_count": 33,
   "metadata": {},
   "outputs": [
    {
     "name": "stdout",
     "output_type": "stream",
     "text": [
      "t^317 - t^300 - 6*t^299 - 9*t^298 - 16*t^297 - 21*t^296 - 29*t^295 - 33*t^294 - 39*t^293 - 36*t^292 - 32*t^291 - 16*t^290 + 8*t^289 + 47*t^288 + 96*t^287 + 163*t^286 + 237*t^285 + 316*t^284 + 390*t^283 + 445*t^282 + 470*t^281 + 449*t^280 + 368*t^279 + 204*t^278 - 41*t^277 - 385*t^276 - 809*t^275 - 1317*t^274 - 1854*t^273 - 2404*t^272 - 2873*t^271 - 3224*t^270 - 3336*t^269 - 3168*t^268 - 2600*t^267 - 1615*t^266 - 144*t^265 + 1779*t^264 + 4133*t^263 + 6769*t^262 + 9553*t^261 + 12233*t^260 + 14535*t^259 + 16135*t^258 + 16695*t^257 + 15897*t^256 + 13455*t^255 + 9205*t^254 + 3037*t^253 - 4894*t^252 - 14373*t^251 - 24855*t^250 - 35736*t^249 - 46054*t^248 - 54911*t^247 - 61091*t^246 - 63625*t^245 - 61383*t^244 - 53698*t^243 - 39955*t^242 - 20225*t^241 + 5182*t^240 + 35160*t^239 + 68240*t^238 + 102211*t^237 + 134583*t^236 + 162400*t^235 + 182661*t^234 + 192411*t^233 + 189068*t^232 + 170695*t^231 + 136188*t^230 + 85698*t^229 + 20446*t^228 - 56688*t^227 - 141784*t^226 - 229345*t^225 - 313306*t^224 - 386497*t^223 - 442149*t^222 - 473317*t^221 - 474592*t^220 - 441537*t^219 - 372365*t^218 - 267176*t^217 - 129469*t^216 + 35004*t^215 + 217227*t^214 + 406282*t^213 + 589034*t^212 + 751731*t^211 + 880264*t^210 + 961743*t^209 + 985253*t^208 + 943028*t^207 + 831399*t^206 + 651222*t^205 + 408698*t^204 + 114729*t^203 - 214530*t^202 - 559551*t^201 - 897277*t^200 - 1203999*t^199 - 1455338*t^198 - 1629886*t^197 - 1708985*t^196 - 1680328*t^195 - 1537283*t^194 - 1281856*t^193 - 923025*t^192 - 478696*t^191 + 27048*t^190 + 563424*t^189 + 1096397*t^188 + 1589413*t^187 + 2007246*t^186 + 2317398*t^185 + 2493417*t^184 + 2516560*t^183 + 2377707*t^182 + 2078523*t^181 + 1631508*t^180 + 1060205*t^179 + 397048*t^178 - 317255*t^177 - 1037848*t^176 - 1716915*t^175 - 2308919*t^174 - 2771600*t^173 - 3071465*t^172 - 3183763*t^171 - 3097096*t^170 - 2811826*t^169 - 2343016*t^168 - 1717007*t^167 - 972447*t^166 - 155341*t^165 + 681738*t^164 + 1485202*t^163 + 2202255*t^162 + 2786215*t^161 + 3198325*t^160 + 3411479*t^159 + 3411479*t^158 + 3198325*t^157 + 2786215*t^156 + 2202255*t^155 + 1485202*t^154 + 681738*t^153 - 155341*t^152 - 972447*t^151 - 1717007*t^150 - 2343016*t^149 - 2811826*t^148 - 3097096*t^147 - 3183763*t^146 - 3071465*t^145 - 2771600*t^144 - 2308919*t^143 - 1716915*t^142 - 1037848*t^141 - 317255*t^140 + 397048*t^139 + 1060205*t^138 + 1631508*t^137 + 2078523*t^136 + 2377707*t^135 + 2516560*t^134 + 2493417*t^133 + 2317398*t^132 + 2007246*t^131 + 1589413*t^130 + 1096397*t^129 + 563424*t^128 + 27048*t^127 - 478696*t^126 - 923025*t^125 - 1281856*t^124 - 1537283*t^123 - 1680328*t^122 - 1708985*t^121 - 1629886*t^120 - 1455338*t^119 - 1203999*t^118 - 897277*t^117 - 559551*t^116 - 214530*t^115 + 114729*t^114 + 408698*t^113 + 651222*t^112 + 831399*t^111 + 943028*t^110 + 985253*t^109 + 961743*t^108 + 880264*t^107 + 751731*t^106 + 589034*t^105 + 406282*t^104 + 217227*t^103 + 35004*t^102 - 129469*t^101 - 267176*t^100 - 372365*t^99 - 441537*t^98 - 474592*t^97 - 473317*t^96 - 442149*t^95 - 386497*t^94 - 313306*t^93 - 229345*t^92 - 141784*t^91 - 56688*t^90 + 20446*t^89 + 85698*t^88 + 136188*t^87 + 170695*t^86 + 189068*t^85 + 192411*t^84 + 182661*t^83 + 162400*t^82 + 134583*t^81 + 102211*t^80 + 68240*t^79 + 35160*t^78 + 5182*t^77 - 20225*t^76 - 39955*t^75 - 53698*t^74 - 61383*t^73 - 63625*t^72 - 61091*t^71 - 54911*t^70 - 46054*t^69 - 35736*t^68 - 24855*t^67 - 14373*t^66 - 4894*t^65 + 3037*t^64 + 9205*t^63 + 13455*t^62 + 15897*t^61 + 16695*t^60 + 16135*t^59 + 14535*t^58 + 12233*t^57 + 9553*t^56 + 6769*t^55 + 4133*t^54 + 1779*t^53 - 144*t^52 - 1615*t^51 - 2600*t^50 - 3168*t^49 - 3336*t^48 - 3224*t^47 - 2873*t^46 - 2404*t^45 - 1854*t^44 - 1317*t^43 - 809*t^42 - 385*t^41 - 41*t^40 + 204*t^39 + 368*t^38 + 449*t^37 + 470*t^36 + 445*t^35 + 390*t^34 + 316*t^33 + 237*t^32 + 163*t^31 + 96*t^30 + 47*t^29 + 8*t^28 - 16*t^27 - 32*t^26 - 36*t^25 - 39*t^24 - 33*t^23 - 29*t^22 - 21*t^21 - 16*t^20 - 9*t^19 - 6*t^18 - t^17 + 1\n"
     ]
    }
   ],
   "source": [
    "polynomial = df.loc[0]['numerator']\n",
    "print(polynomial)"
   ]
  },
  {
   "cell_type": "code",
   "execution_count": 41,
   "metadata": {
    "id": "zZozX3A1-5Km"
   },
   "outputs": [
    {
     "name": "stdout",
     "output_type": "stream",
     "text": [
      "285\n"
     ]
    }
   ],
   "source": [
    "#def poly_to_list(polynomial)\n",
    "coefficient = re.findall(r'-?[\\d]*[t$]', polynomial)\n",
    "power = re.findall(r'[\\^][-]?[\\d$]+', polynomial)"
   ]
  },
  {
   "cell_type": "code",
   "execution_count": 50,
   "metadata": {},
   "outputs": [],
   "source": [
    "s = polynomial\n",
    "\n",
    "def get_coef_array(poly, x):\n",
    "    # define a variable x\n",
    "    x = var(x)\n",
    "    # construct a sympy polynomial from string\n",
    "    # WARNING: this may call eval\n",
    "    expr = Poly(sympify(poly), x)\n",
    "    # get the coefficients\n",
    "    coefs = expr.all_coeffs()\n",
    "    return coefs\n",
    "# [9, 11, -20]"
   ]
  },
  {
   "cell_type": "code",
   "execution_count": 58,
   "metadata": {
    "id": "bdRsbzOt-5Kn"
   },
   "outputs": [],
   "source": [
    "def get_max_degree(polys):\n",
    "    max_degree = 0\n",
    "    for poly in tqdm(polys):\n",
    "        coefs = get_coef_array(poly,'t')\n",
    "        if len(coefs) - 1 > max_degree:\n",
    "            max_degree = len(coefs)\n",
    "    return max_degree"
   ]
  },
  {
   "cell_type": "code",
   "execution_count": 55,
   "metadata": {
    "id": "DMO-coFb-5Ko"
   },
   "outputs": [],
   "source": [
    "numerators = df['numerator'].to_numpy()"
   ]
  },
  {
   "cell_type": "code",
   "execution_count": 59,
   "metadata": {
    "colab": {
     "base_uri": "https://localhost:8080/"
    },
    "id": "HwwI3CT9Dcwc",
    "outputId": "123a7989-5f89-4cc4-a554-652c86933e17"
   },
   "outputs": [
    {
     "name": "stderr",
     "output_type": "stream",
     "text": [
      "100%|██████████| 52646/52646 [56:52<00:00, 26.15it/s]  \n"
     ]
    },
    {
     "data": {
      "text/plain": [
       "323"
      ]
     },
     "execution_count": 59,
     "metadata": {},
     "output_type": "execute_result"
    }
   ],
   "source": [
    "get_max_degree(numerators)"
   ]
  },
  {
   "cell_type": "code",
   "execution_count": null,
   "metadata": {
    "id": "OIRGKcgVBksu"
   },
   "outputs": [],
   "source": [
    "uniform_coefficients = np.array([])\n",
    "\n",
    "for poly in numerators: \n",
    "    coefs = get_coef_array(poly)\n",
    "    extra = max_degree - (len(coefs) - 1)\n",
    "    filled = np.concatenate((np.zeros(extra), coefs))\n",
    "    uniform_coefficients.append(filled)\n",
    "    \n",
    "print(uniform_coefficients.shape())\n",
    "    \n",
    "    "
   ]
  },
  {
   "cell_type": "code",
   "execution_count": null,
   "metadata": {
    "id": "Eu5Pb7gH-5Kp"
   },
   "outputs": [],
   "source": []
  },
  {
   "cell_type": "code",
   "execution_count": null,
   "metadata": {
    "colab": {
     "base_uri": "https://localhost:8080/",
     "height": 868
    },
    "id": "tjB057JcSVIY",
    "outputId": "ce374a0b-83e0-4c36-fa0e-8b8142e7cc6a"
   },
   "outputs": [],
   "source": []
  },
  {
   "cell_type": "code",
   "execution_count": null,
   "metadata": {
    "id": "yYsP10jrYWra"
   },
   "outputs": [],
   "source": []
  },
  {
   "cell_type": "code",
   "execution_count": null,
   "metadata": {
    "colab": {
     "base_uri": "https://localhost:8080/",
     "height": 868
    },
    "id": "pv6_WZmWfE_l",
    "outputId": "96b7ceed-012f-48a8-ab89-6987091d9e6e"
   },
   "outputs": [],
   "source": []
  },
  {
   "cell_type": "code",
   "execution_count": null,
   "metadata": {
    "id": "7TxPR3Tn-5Kp"
   },
   "outputs": [],
   "source": []
  }
 ],
 "metadata": {
  "colab": {
   "include_colab_link": true,
   "provenance": []
  },
  "kernelspec": {
   "display_name": "Python 3",
   "language": "python",
   "name": "python3"
  },
  "language_info": {
   "codemirror_mode": {
    "name": "ipython",
    "version": 3
   },
   "file_extension": ".py",
   "mimetype": "text/x-python",
   "name": "python",
   "nbconvert_exporter": "python",
   "pygments_lexer": "ipython3",
   "version": "3.6.8"
  }
 },
 "nbformat": 4,
 "nbformat_minor": 1
}
