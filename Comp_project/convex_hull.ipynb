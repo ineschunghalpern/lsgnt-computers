{
 "cells": [
  {
   "cell_type": "code",
   "execution_count": 2,
   "metadata": {},
   "outputs": [],
   "source": [
    "import matplotlib.pyplot as plt\n",
    "import numpy as np\n",
    "from scipy.spatial import ConvexHull"
   ]
  },
  {
   "cell_type": "markdown",
   "metadata": {},
   "source": [
    "#### Computing a convex hull of a set of points:"
   ]
  },
  {
   "cell_type": "code",
   "execution_count": null,
   "metadata": {},
   "outputs": [],
   "source": [
    "def plot_hull(points):\n",
    "    hull = ConvexHull(points)\n",
    "    fig, (ax1, ax2) = plt.subplots(ncols=2, figsize=(10, 3))\n",
    "    for ax in (ax1, ax2):\n",
    "        ax.plot(points[:, 0], points[:, 1], '.', color='k')\n",
    "        if ax == ax1:\n",
    "            ax.set_title('Points')\n",
    "        else:\n",
    "            ax.set_title('Convex hull')\n",
    "            for simplex in hull.simplices:\n",
    "                ax.plot(points[simplex, 0], points[simplex, 1], 'c')\n",
    "            ax.plot(points[hull.vertices, 0], points[hull.vertices, 1], 'o', mec='r', color='none', lw=1, markersize=10)\n",
    "        ax.set_xticks(range(10))\n",
    "        ax.set_yticks(range(10))\n",
    "    plt.show()\n",
    "    return hull\n",
    "\n",
    "\n"
   ]
  },
  {
   "cell_type": "code",
   "execution_count": null,
   "metadata": {},
   "outputs": [
    {
     "data": {
      "image/png": "[encoded data removed]",
      "text/plain": [
       "<Figure size 1000x300 with 2 Axes>"
      ]
     },
     "metadata": {},
     "output_type": "display_data"
    },
    {
     "data": {
      "text/plain": [
       "<scipy.spatial._qhull.ConvexHull at 0x1fc0e492010>"
      ]
     },
     "execution_count": 6,
     "metadata": {},
     "output_type": "execute_result"
    }
   ],
   "source": [
    "points = np.random.randint(0, 10, size=(15, 2))  # Random points in 2-D\n",
    "plot_hull(points)"
   ]
  },
  {
   "cell_type": "markdown",
   "metadata": {},
   "source": [
    "#### Scaling the convex hull:"
   ]
  },
  {
   "cell_type": "code",
   "execution_count": null,
   "metadata": {},
   "outputs": [],
   "source": [
    "def scale_hull(points, m): #Add defenses\n",
    "    scaled_points = m*points\n",
    "    return plot_hull(scaled_points)"
   ]
  },
  {
   "cell_type": "code",
   "execution_count": null,
   "metadata": {},
   "outputs": [],
   "source": [
    "m = 5\n",
    "plot_hull(points, m)"
   ]
  },
  {
   "cell_type": "markdown",
   "metadata": {},
   "source": [
    "#### Counting interior points"
   ]
  },
  {
   "cell_type": "code",
   "execution_count": 1,
   "metadata": {},
   "outputs": [
    {
     "ename": "ModuleNotFoundError",
     "evalue": "No module named 'polytope'",
     "output_type": "error",
     "traceback": [
      "\u001b[1;31m---------------------------------------------------------------------------\u001b[0m",
      "\u001b[1;31mModuleNotFoundError\u001b[0m                       Traceback (most recent call last)",
      "\u001b[1;32mc:\\Users\\inesc\\OneDrive\\Desktop\\computers!\\lsgnt-computers\\Comp_project\\convex_hull.ipynb Cell 9\u001b[0m line \u001b[0;36m2\n\u001b[0;32m      <a href='vscode-notebook-cell:/c%3A/Users/inesc/OneDrive/Desktop/computers%21/lsgnt-computers/Comp_project/convex_hull.ipynb#X11sZmlsZQ%3D%3D?line=0'>1</a>\u001b[0m \u001b[39m#TO DO -- import polytope as pc - use pip or import from source\u001b[39;00m\n\u001b[1;32m----> <a href='vscode-notebook-cell:/c%3A/Users/inesc/OneDrive/Desktop/computers%21/lsgnt-computers/Comp_project/convex_hull.ipynb#X11sZmlsZQ%3D%3D?line=1'>2</a>\u001b[0m \u001b[39mimport\u001b[39;00m \u001b[39mpolytope\u001b[39;00m \u001b[39mas\u001b[39;00m \u001b[39mpc\u001b[39;00m\n",
      "\u001b[1;31mModuleNotFoundError\u001b[0m: No module named 'polytope'"
     ]
    }
   ],
   "source": [
    "#TO DO -- import polytope as pc - use pip or import from source\n",
    "import polytope as pc"
   ]
  },
  {
   "cell_type": "markdown",
   "metadata": {},
   "source": [
    "Check linearity for aymptotic Riemann Roch formula"
   ]
  },
  {
   "cell_type": "code",
   "execution_count": null,
   "metadata": {},
   "outputs": [],
   "source": [
    "#Take m_1 < m_2, as powers of anticanonical bundle for which we check ampleness\n",
    "def is_very_ample(m_1, h_1, m_2, h_2, m_3, h_3 K):\n",
    "    #compute gradient of points one and two\n",
    "    y_1, y_2, y_3 = h_1 - (m_1**2)*((k**2)/2),h_2 - (m_2**2)*((k**2)/2), h_3-(m_3**2)*((k**2)/2)\n",
    "    grad_1 =(y_2 - y_1)/(m_2 - m_1)\n",
    "    grad_2 = (y_3 -y_2)/(m_3 - m_2)\n",
    "    if grad_1 == grad_2:\n",
    "        return True\n",
    "    else:\n",
    "        return False\n",
    "    \n",
    "\n",
    "def get_ample_index(vertices, antican_sq_deg):\n",
    "    very_ample = False\n",
    "    m = 0\n",
    "    while very_ample == False:\n",
    "        m += 1\n",
    "        h_1 = polytope_lattice_points(m*vertices)\n",
    "        h_2 = polytope_lattice_points((m+1)*vertices)\n",
    "        h_3 = polytope_lattice_points((m+2)*vertices)\n",
    "        very_ample = is_very_ample(m, h_1, m+1, h_2, m+2, h_3)\n",
    "    return m\n",
    "\n",
    "\n",
    "\n",
    "\n",
    "\n",
    "\n"
   ]
  }
 ],
 "metadata": {
  "kernelspec": {
   "display_name": "base",
   "language": "python",
   "name": "python3"
  },
  "language_info": {
   "codemirror_mode": {
    "name": "ipython",
    "version": 3
   },
   "file_extension": ".py",
   "mimetype": "text/x-python",
   "name": "python",
   "nbconvert_exporter": "python",
   "pygments_lexer": "ipython3",
   "version": "3.11.5"
  }
 },
 "nbformat": 4,
 "nbformat_minor": 2
}
