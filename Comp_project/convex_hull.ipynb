{
 "cells": [
  {
   "cell_type": "code",
   "execution_count": 3,
   "metadata": {},
   "outputs": [],
   "source": [
    "import matplotlib.pyplot as plt\n",
    "import numpy as np\n",
    "from scipy.spatial import ConvexHull"
   ]
  },
  {
   "cell_type": "markdown",
   "metadata": {},
   "source": [
    "#### Computing a convex hull of a set of points:"
   ]
  },
  {
   "cell_type": "code",
   "execution_count": 3,
   "metadata": {},
   "outputs": [],
   "source": [
    "def plot_hull(points):\n",
    "    hull = ConvexHull(points)\n",
    "    fig, (ax1, ax2) = plt.subplots(ncols=2, figsize=(10, 3))\n",
    "    for ax in (ax1, ax2):\n",
    "        ax.plot(points[:, 0], points[:, 1], '.', color='k')\n",
    "        if ax == ax1:\n",
    "            ax.set_title('Points')\n",
    "        else:\n",
    "            ax.set_title('Convex hull')\n",
    "            for simplex in hull.simplices:\n",
    "                ax.plot(points[simplex, 0], points[simplex, 1], 'c')\n",
    "            ax.plot(points[hull.vertices, 0], points[hull.vertices, 1], 'o', mec='r', color='none', lw=1, markersize=10)\n",
    "        ax.set_xticks(range(10))\n",
    "        ax.set_yticks(range(10))\n",
    "    plt.show()\n",
    "    return hull\n",
    "\n",
    "\n"
   ]
  },
  {
   "cell_type": "code",
   "execution_count": 4,
   "metadata": {},
   "outputs": [
    {
     "data": {
      "image/png": "[encoded data removed]",
      "text/plain": [
       "<Figure size 720x216 with 2 Axes>"
      ]
     },
     "metadata": {
      "needs_background": "light"
     },
     "output_type": "display_data"
    }
   ],
   "source": [
    "#points = np.random.randint(0, 10, size=(15, 2))  # Random points in 2-D\n",
    "points = np.array([[0,1], [1,1], [-1,-2]])\n",
    "hull = plot_hull(points)"
   ]
  },
  {
   "cell_type": "code",
   "execution_count": 9,
   "metadata": {},
   "outputs": [
    {
     "name": "stdout",
     "output_type": "stream",
     "text": [
      "[[1 2]\n",
      " [0 2]\n",
      " [0 1]]\n"
     ]
    }
   ],
   "source": [
    "print(hull.simplices)"
   ]
  },
  {
   "cell_type": "markdown",
   "metadata": {},
   "source": [
    "#### Scaling the convex hull:"
   ]
  },
  {
   "cell_type": "code",
   "execution_count": 4,
   "metadata": {},
   "outputs": [],
   "source": [
    "def scale_hull(points, m): #Add defenses\n",
    "    scaled_points = m*points\n",
    "    return plot_hull(scaled_points)"
   ]
  },
  {
   "cell_type": "code",
   "execution_count": 6,
   "metadata": {},
   "outputs": [
    {
     "data": {
      "image/png": "[encoded data removed]",
      "text/plain": [
       "<Figure size 720x216 with 2 Axes>"
      ]
     },
     "metadata": {
      "needs_background": "light"
     },
     "output_type": "display_data"
    },
    {
     "data": {
      "text/plain": [
       "<scipy.spatial.qhull.ConvexHull at 0x7f88d043c208>"
      ]
     },
     "execution_count": 6,
     "metadata": {},
     "output_type": "execute_result"
    }
   ],
   "source": [
    "m = 5\n",
    "scale_hull(points, m)"
   ]
  },
  {
   "cell_type": "markdown",
   "metadata": {},
   "source": [
    "#### Counting interior points"
   ]
  },
  {
   "cell_type": "code",
   "execution_count": 12,
   "metadata": {},
   "outputs": [],
   "source": [
    "#TO DO -- import polytope as pc - use pip or import from source\n",
    "import polytope.polytope as pc"
   ]
  },
  {
   "cell_type": "code",
   "execution_count": 21,
   "metadata": {},
   "outputs": [],
   "source": [
    "def enumerate_integral_points(poly):\n",
    "    \"\"\"Return all points in `poly` that have integer coordinates.\n",
    "\n",
    "    @param poly: polytope\n",
    "    @type poly: `polytope.polytope.Region` or\n",
    "        `polytope.polytope.Polytope`\n",
    "    @return: coordinates of `m` points as `d X m` array,\n",
    "        where `d` the dimension\n",
    "    @rtype: `numpy.ndarray`\n",
    "    \"\"\"\n",
    "    a, b = poly.bounding_box\n",
    "    a_int = np.floor(a)\n",
    "    b_int = np.ceil(b)\n",
    "    intervals = list(zip(a_int.flatten(), b_int.flatten()))\n",
    "    box = pc.box2poly(intervals)\n",
    "    res = [int(b - a + 1) for a, b in intervals]\n",
    "    grid, _ = pc.grid_region(box, res=res)\n",
    "    inside = poly.contains(grid)\n",
    "    return grid[:, inside]"
   ]
  },
  {
   "cell_type": "code",
   "execution_count": 23,
   "metadata": {},
   "outputs": [
    {
     "name": "stdout",
     "output_type": "stream",
     "text": [
      "[[-1.  0.  0.  1.]\n",
      " [-2.  0.  1.  1.]]\n"
     ]
    }
   ],
   "source": [
    "hull = pc.qhull(points)\n",
    "        # `hull` is an instance of the class `polytope.polytope.Polytope`,\n",
    "        # which is for representing convex polytopes\n",
    "integral_points = enumerate_integral_points(hull)\n",
    "print(integral_points)"
   ]
  },
  {
   "cell_type": "markdown",
   "metadata": {},
   "source": [
    "### Asymptotic Riemann Roch"
   ]
  },
  {
   "cell_type": "code",
   "execution_count": 4,
   "metadata": {},
   "outputs": [],
   "source": [
    "points = np.array([[0,1], [1,1], [-1,-2]])"
   ]
  },
  {
   "cell_type": "code",
   "execution_count": 5,
   "metadata": {},
   "outputs": [
    {
     "data": {
      "image/png": "[encoded data removed]",
      "text/plain": [
       "A 2-dimensional polyhedron in ZZ^2 defined as the convex hull of 3 vertices"
      ]
     },
     "execution_count": 5,
     "metadata": {},
     "output_type": "execute_result"
    }
   ],
   "source": [
    "P = Polyhedron(vertices=points)\n",
    "P"
   ]
  },
  {
   "cell_type": "code",
   "execution_count": 6,
   "metadata": {},
   "outputs": [
    {
     "ename": "FeatureNotPresentError",
     "evalue": "count is not available.\nExecutable 'count' not found on PATH.\nNo equivalent system packages for pip are known to Sage.\nFurther installation instructions might be available at https://www.math.ucdavis.edu/~latte/software.php.",
     "output_type": "error",
     "traceback": [
      "\u001b[0;31m---------------------------------------------------------------------------\u001b[0m",
      "\u001b[0;31mKeyError\u001b[0m                                  Traceback (most recent call last)",
      "File \u001b[0;32m/usr/local/Caskroom/mambaforge/base/envs/sage/lib/python3.11/site-packages/sage/misc/cachefunc.pyx:1933\u001b[0m, in \u001b[0;36msage.misc.cachefunc.CachedMethodCaller.__call__ (build/cythonized/sage/misc/cachefunc.c:10124)\u001b[0;34m()\u001b[0m\n\u001b[1;32m   1932\u001b[0m try:\n\u001b[0;32m-> 1933\u001b[0m     return cache[k]\n\u001b[1;32m   1934\u001b[0m except TypeError:  # k is not hashable\n",
      "\u001b[0;31mKeyError\u001b[0m: (('latte', 't', False, None, None, None, None, None, None, None, None, None, None), ())",
      "\nDuring handling of the above exception, another exception occurred:\n",
      "\u001b[0;31mFeatureNotPresentError\u001b[0m                    Traceback (most recent call last)",
      "Cell \u001b[0;32mIn[6], line 1\u001b[0m\n\u001b[0;32m----> 1\u001b[0m p \u001b[38;5;241m=\u001b[39m \u001b[43mP\u001b[49m\u001b[38;5;241;43m.\u001b[39;49m\u001b[43mehrhart_polynomial\u001b[49m\u001b[43m(\u001b[49m\u001b[43mengine\u001b[49m\u001b[38;5;241;43m=\u001b[39;49m\u001b[38;5;124;43m'\u001b[39;49m\u001b[38;5;124;43mlatte\u001b[39;49m\u001b[38;5;124;43m'\u001b[39;49m\u001b[43m)\u001b[49m\n",
      "File \u001b[0;32m/usr/local/Caskroom/mambaforge/base/envs/sage/lib/python3.11/site-packages/sage/misc/cachefunc.pyx:1938\u001b[0m, in \u001b[0;36msage.misc.cachefunc.CachedMethodCaller.__call__ (build/cythonized/sage/misc/cachefunc.c:10260)\u001b[0;34m()\u001b[0m\n\u001b[1;32m   1936\u001b[0m         return cache[k]\n\u001b[1;32m   1937\u001b[0m except KeyError:\n\u001b[0;32m-> 1938\u001b[0m     w = self._instance_call(*args, **kwds)\n\u001b[1;32m   1939\u001b[0m     cache[k] = w\n\u001b[1;32m   1940\u001b[0m     return w\n",
      "File \u001b[0;32m/usr/local/Caskroom/mambaforge/base/envs/sage/lib/python3.11/site-packages/sage/misc/cachefunc.pyx:1814\u001b[0m, in \u001b[0;36msage.misc.cachefunc.CachedMethodCaller._instance_call (build/cythonized/sage/misc/cachefunc.c:9726)\u001b[0;34m()\u001b[0m\n\u001b[1;32m   1812\u001b[0m         True\n\u001b[1;32m   1813\u001b[0m     \"\"\"\n\u001b[0;32m-> 1814\u001b[0m     return self.f(self._instance, *args, **kwds)\n\u001b[1;32m   1815\u001b[0m \n\u001b[1;32m   1816\u001b[0m cdef fix_args_kwds(self, tuple args, dict kwds):\n",
      "File \u001b[0;32m/usr/local/Caskroom/mambaforge/base/envs/sage/lib/python3.11/site-packages/sage/geometry/polyhedron/base_ZZ.py:465\u001b[0m, in \u001b[0;36mPolyhedron_ZZ.ehrhart_polynomial\u001b[0;34m(self, engine, variable, verbose, dual, irrational_primal, irrational_all_primal, maxdet, no_decomposition, compute_vertex_cones, smith_form, dualization, triangulation, triangulation_max_height, **kwds)\u001b[0m\n\u001b[1;32m    463\u001b[0m     engine \u001b[38;5;241m=\u001b[39m \u001b[38;5;124m'\u001b[39m\u001b[38;5;124mlatte\u001b[39m\u001b[38;5;124m'\u001b[39m\n\u001b[1;32m    464\u001b[0m \u001b[38;5;28;01mif\u001b[39;00m engine \u001b[38;5;241m==\u001b[39m \u001b[38;5;124m'\u001b[39m\u001b[38;5;124mlatte\u001b[39m\u001b[38;5;124m'\u001b[39m:\n\u001b[0;32m--> 465\u001b[0m     poly \u001b[38;5;241m=\u001b[39m \u001b[38;5;28;43mself\u001b[39;49m\u001b[38;5;241;43m.\u001b[39;49m\u001b[43m_ehrhart_polynomial_latte\u001b[49m\u001b[43m(\u001b[49m\u001b[43mverbose\u001b[49m\u001b[43m,\u001b[49m\u001b[43m \u001b[49m\u001b[43mdual\u001b[49m\u001b[43m,\u001b[49m\n\u001b[1;32m    466\u001b[0m \u001b[43m    \u001b[49m\u001b[43mirrational_primal\u001b[49m\u001b[43m,\u001b[49m\u001b[43m \u001b[49m\u001b[43mirrational_all_primal\u001b[49m\u001b[43m,\u001b[49m\u001b[43m \u001b[49m\u001b[43mmaxdet\u001b[49m\u001b[43m,\u001b[49m\n\u001b[1;32m    467\u001b[0m \u001b[43m    \u001b[49m\u001b[43mno_decomposition\u001b[49m\u001b[43m,\u001b[49m\u001b[43m \u001b[49m\u001b[43mcompute_vertex_cones\u001b[49m\u001b[43m,\u001b[49m\u001b[43m \u001b[49m\u001b[43msmith_form\u001b[49m\u001b[43m,\u001b[49m\n\u001b[1;32m    468\u001b[0m \u001b[43m    \u001b[49m\u001b[43mdualization\u001b[49m\u001b[43m,\u001b[49m\u001b[43m \u001b[49m\u001b[43mtriangulation\u001b[49m\u001b[43m,\u001b[49m\u001b[43m \u001b[49m\u001b[43mtriangulation_max_height\u001b[49m\u001b[43m,\u001b[49m\n\u001b[1;32m    469\u001b[0m \u001b[43m    \u001b[49m\u001b[38;5;241;43m*\u001b[39;49m\u001b[38;5;241;43m*\u001b[39;49m\u001b[43mkwds\u001b[49m\u001b[43m)\u001b[49m\n\u001b[1;32m    470\u001b[0m     \u001b[38;5;28;01mreturn\u001b[39;00m poly\u001b[38;5;241m.\u001b[39mchange_variable_name(variable)\n\u001b[1;32m    471\u001b[0m     \u001b[38;5;66;03m# TO DO: replace this change of variable by creating the appropriate\u001b[39;00m\n\u001b[1;32m    472\u001b[0m     \u001b[38;5;66;03m#        polynomial ring in the latte interface.\u001b[39;00m\n",
      "File \u001b[0;32m/usr/local/Caskroom/mambaforge/base/envs/sage/lib/python3.11/site-packages/sage/geometry/polyhedron/base_ZZ.py:251\u001b[0m, in \u001b[0;36mPolyhedron_ZZ._ehrhart_polynomial_latte\u001b[0;34m(self, verbose, dual, irrational_primal, irrational_all_primal, maxdet, no_decomposition, compute_vertex_cones, smith_form, dualization, triangulation, triangulation_max_height, **kwds)\u001b[0m\n\u001b[1;32m    249\u001b[0m \u001b[38;5;28;01mfrom\u001b[39;00m \u001b[38;5;21;01msage\u001b[39;00m\u001b[38;5;21;01m.\u001b[39;00m\u001b[38;5;21;01minterfaces\u001b[39;00m\u001b[38;5;21;01m.\u001b[39;00m\u001b[38;5;21;01mlatte\u001b[39;00m \u001b[38;5;28;01mimport\u001b[39;00m count\n\u001b[1;32m    250\u001b[0m ine \u001b[38;5;241m=\u001b[39m \u001b[38;5;28mself\u001b[39m\u001b[38;5;241m.\u001b[39mcdd_Hrepresentation()\n\u001b[0;32m--> 251\u001b[0m \u001b[38;5;28;01mreturn\u001b[39;00m \u001b[43mcount\u001b[49m\u001b[43m(\u001b[49m\u001b[43mine\u001b[49m\u001b[43m,\u001b[49m\u001b[43m \u001b[49m\u001b[43mcdd\u001b[49m\u001b[38;5;241;43m=\u001b[39;49m\u001b[38;5;28;43;01mTrue\u001b[39;49;00m\u001b[43m,\u001b[49m\u001b[43m \u001b[49m\u001b[43mehrhart_polynomial\u001b[49m\u001b[38;5;241;43m=\u001b[39;49m\u001b[38;5;28;43;01mTrue\u001b[39;49;00m\u001b[43m,\u001b[49m\u001b[43m \u001b[49m\u001b[43mverbose\u001b[49m\u001b[38;5;241;43m=\u001b[39;49m\u001b[43mverbose\u001b[49m\u001b[43m,\u001b[49m\u001b[43m \u001b[49m\u001b[38;5;241;43m*\u001b[39;49m\u001b[38;5;241;43m*\u001b[39;49m\u001b[43mkwds\u001b[49m\u001b[43m)\u001b[49m\n",
      "File \u001b[0;32m/usr/local/Caskroom/mambaforge/base/envs/sage/lib/python3.11/site-packages/sage/interfaces/latte.py:126\u001b[0m, in \u001b[0;36mcount\u001b[0;34m(arg, ehrhart_polynomial, multivariate_generating_function, raw_output, verbose, **kwds)\u001b[0m\n\u001b[1;32m     23\u001b[0m \u001b[38;5;250m\u001b[39m\u001b[38;5;124mr\u001b[39m\u001b[38;5;124;03m\"\"\"\u001b[39;00m\n\u001b[1;32m     24\u001b[0m \u001b[38;5;124;03mCall to the program count from LattE integrale\u001b[39;00m\n\u001b[1;32m     25\u001b[0m \n\u001b[0;32m   (...)\u001b[0m\n\u001b[1;32m    122\u001b[0m \u001b[38;5;124;03m    The polyhedron is unbounded.\u001b[39;00m\n\u001b[1;32m    123\u001b[0m \u001b[38;5;124;03m\"\"\"\u001b[39;00m\n\u001b[1;32m    124\u001b[0m arg \u001b[38;5;241m=\u001b[39m str_to_bytes(arg)\n\u001b[0;32m--> 126\u001b[0m args \u001b[38;5;241m=\u001b[39m [\u001b[43mLatte_count\u001b[49m\u001b[43m(\u001b[49m\u001b[43m)\u001b[49m\u001b[38;5;241;43m.\u001b[39;49m\u001b[43mabsolute_filename\u001b[49m\u001b[43m(\u001b[49m\u001b[43m)\u001b[49m]\n\u001b[1;32m    127\u001b[0m \u001b[38;5;28;01mif\u001b[39;00m ehrhart_polynomial \u001b[38;5;129;01mand\u001b[39;00m multivariate_generating_function:\n\u001b[1;32m    128\u001b[0m     \u001b[38;5;28;01mraise\u001b[39;00m \u001b[38;5;167;01mValueError\u001b[39;00m\n",
      "File \u001b[0;32m/usr/local/Caskroom/mambaforge/base/envs/sage/lib/python3.11/site-packages/sage/features/__init__.py:630\u001b[0m, in \u001b[0;36mExecutable.absolute_filename\u001b[0;34m(self)\u001b[0m\n\u001b[1;32m    628\u001b[0m \u001b[38;5;28;01mif\u001b[39;00m path \u001b[38;5;129;01mis\u001b[39;00m \u001b[38;5;129;01mnot\u001b[39;00m \u001b[38;5;28;01mNone\u001b[39;00m:\n\u001b[1;32m    629\u001b[0m     \u001b[38;5;28;01mreturn\u001b[39;00m path\n\u001b[0;32m--> 630\u001b[0m \u001b[38;5;28;01mraise\u001b[39;00m FeatureNotPresentError(\u001b[38;5;28mself\u001b[39m,\n\u001b[1;32m    631\u001b[0m                              reason\u001b[38;5;241m=\u001b[39m\u001b[38;5;124m\"\u001b[39m\u001b[38;5;124mExecutable \u001b[39m\u001b[38;5;132;01m{executable!r}\u001b[39;00m\u001b[38;5;124m not found on PATH.\u001b[39m\u001b[38;5;124m\"\u001b[39m\u001b[38;5;241m.\u001b[39mformat(executable\u001b[38;5;241m=\u001b[39m\u001b[38;5;28mself\u001b[39m\u001b[38;5;241m.\u001b[39mexecutable),\n\u001b[1;32m    632\u001b[0m                              resolution\u001b[38;5;241m=\u001b[39m\u001b[38;5;28mself\u001b[39m\u001b[38;5;241m.\u001b[39mresolution())\n",
      "\u001b[0;31mFeatureNotPresentError\u001b[0m: count is not available.\nExecutable 'count' not found on PATH.\nNo equivalent system packages for pip are known to Sage.\nFurther installation instructions might be available at https://www.math.ucdavis.edu/~latte/software.php."
     ]
    }
   ],
   "source": [
    "p = P.ehrhart_polynomial(engine='latte')"
   ]
  },
  {
   "cell_type": "code",
   "execution_count": null,
   "metadata": {},
   "outputs": [],
   "source": []
  },
  {
   "cell_type": "code",
   "execution_count": null,
   "metadata": {},
   "outputs": [],
   "source": [
    "#Take m_1 < m_2, as powers of anticanonical bundle for which we check ampleness\n",
    "def is_very_ample(m_1, h_1, m_2, h_2, m_3, h_3, k):\n",
    "    #compute gradient of points one and two\n",
    "    y_1, y_2, y_3 = h_1 - (m_1**2)*((k**2)/2),h_2 - (m_2**2)*((k**2)/2), h_3-(m_3**2)*((k**2)/2)\n",
    "    grad_1 =(y_2 - y_1)/(m_2 - m_1)\n",
    "    grad_2 = (y_3 -y_2)/(m_3 - m_2)\n",
    "    if grad_1 == grad_2:\n",
    "        return True\n",
    "    else:\n",
    "        return False\n",
    "    \n",
    "def get_ample_index(vertices, antican_dsq):\n",
    "    P = Polyhedron(vertices=points)\n",
    "    p = P.ehrhart_polynomial(engine='latte')\n",
    "    very_ample = False\n",
    "    m = 0\n",
    "    while very_ample == False:\n",
    "        print(m)\n",
    "        m += 1\n",
    "        h_1 = p(m)\n",
    "        h_2 = p(m+1)\n",
    "        h_3 = p(m+2)\n",
    "        very_ample = is_very_ample(m, h_1, m+1, h_2, m+2, h_3, antican_dsq)\n",
    "    return m"
   ]
  }
 ],
 "metadata": {
  "kernelspec": {
   "display_name": "SageMath 10.0",
   "language": "sage",
   "name": "sagemath"
  },
  "language_info": {
   "codemirror_mode": {
    "name": "ipython",
    "version": 3
   },
   "file_extension": ".py",
   "mimetype": "text/x-python",
   "name": "python",
   "nbconvert_exporter": "python",
   "pygments_lexer": "ipython3",
   "version": "3.11.6"
  }
 },
 "nbformat": 4,
 "nbformat_minor": 2
}
