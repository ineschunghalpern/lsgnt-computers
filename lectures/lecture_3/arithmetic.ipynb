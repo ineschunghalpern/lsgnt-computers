{
 "cells": [
  {
   "cell_type": "code",
   "execution_count": 2,
   "id": "e7f3ad21",
   "metadata": {},
   "outputs": [
    {
     "data": {
      "text/plain": [
       "55"
      ]
     },
     "execution_count": 2,
     "metadata": {},
     "output_type": "execute_result"
    }
   ],
   "source": [
    "x = 50\n",
    "y = 5\n",
    "x+y"
   ]
  },
  {
   "cell_type": "code",
   "execution_count": 3,
   "id": "5e33f9b6",
   "metadata": {},
   "outputs": [
    {
     "data": {
      "text/plain": [
       "1"
      ]
     },
     "execution_count": 3,
     "metadata": {},
     "output_type": "execute_result"
    }
   ],
   "source": [
    "a = 2\n",
    "b = 3\n",
    "a^b"
   ]
  },
  {
   "cell_type": "code",
   "execution_count": 4,
   "id": "8044530d",
   "metadata": {},
   "outputs": [
    {
     "name": "stdout",
     "output_type": "stream",
     "text": [
      "<class 'bool'>\n"
     ]
    }
   ],
   "source": [
    "x = False\n",
    "print(type(x))"
   ]
  },
  {
   "cell_type": "code",
   "execution_count": 5,
   "id": "dd482465",
   "metadata": {},
   "outputs": [
    {
     "name": "stdout",
     "output_type": "stream",
     "text": [
      "we have one of these at home\n"
     ]
    },
    {
     "data": {
      "text/plain": [
       "str"
      ]
     },
     "execution_count": 5,
     "metadata": {},
     "output_type": "execute_result"
    }
   ],
   "source": [
    "s = 'we have one of these at home'\n",
    "print (s)\n",
    "type(s)"
   ]
  },
  {
   "cell_type": "code",
   "execution_count": 6,
   "id": "3077ae1e",
   "metadata": {},
   "outputs": [
    {
     "name": "stdout",
     "output_type": "stream",
     "text": [
      "0.6666666666666666 5 <class 'int'>\n"
     ]
    }
   ],
   "source": [
    "x, y = 2,3\n",
    "z = x+y\n",
    "print(x/y, z, type(z))"
   ]
  },
  {
   "cell_type": "code",
   "execution_count": 7,
   "id": "857f1e08",
   "metadata": {},
   "outputs": [
    {
     "data": {
      "text/plain": [
       "2"
      ]
     },
     "execution_count": 7,
     "metadata": {},
     "output_type": "execute_result"
    }
   ],
   "source": [
    "True+True"
   ]
  },
  {
   "cell_type": "code",
   "execution_count": 8,
   "id": "1bbee3d2",
   "metadata": {},
   "outputs": [
    {
     "name": "stdout",
     "output_type": "stream",
     "text": [
      "\n"
     ]
    }
   ],
   "source": [
    "print(0*'another string')"
   ]
  },
  {
   "cell_type": "code",
   "execution_count": 9,
   "id": "14a08969",
   "metadata": {},
   "outputs": [],
   "source": [
    "x = [1,2,5]"
   ]
  },
  {
   "cell_type": "code",
   "execution_count": 12,
   "id": "f3e51613",
   "metadata": {},
   "outputs": [
    {
     "data": {
      "text/plain": [
       "{5}"
      ]
     },
     "execution_count": 12,
     "metadata": {},
     "output_type": "execute_result"
    }
   ],
   "source": [
    "S = set()\n",
    "S.add(5)\n",
    "S"
   ]
  },
  {
   "cell_type": "code",
   "execution_count": 14,
   "id": "5fbf38f7",
   "metadata": {},
   "outputs": [],
   "source": [
    "dict = {'a': 3, 'b': 'fish'}\n",
    "dict['c'] = 'extra entry'"
   ]
  },
  {
   "cell_type": "code",
   "execution_count": 24,
   "id": "35aa99b2",
   "metadata": {},
   "outputs": [
    {
     "name": "stdout",
     "output_type": "stream",
     "text": [
      "[2, 3, 4]\n"
     ]
    },
    {
     "data": {
      "text/plain": [
       "[6, 8, 10, 12, 14]"
      ]
     },
     "execution_count": 24,
     "metadata": {},
     "output_type": "execute_result"
    }
   ],
   "source": [
    "x = list(range(2,5))\n",
    "print(x)\n",
    "y = [2*i for i in range(8) if i>=3]\n",
    "y"
   ]
  },
  {
   "cell_type": "code",
   "execution_count": 25,
   "id": "987734eb",
   "metadata": {},
   "outputs": [
    {
     "data": {
      "text/plain": [
       "'boris is a camel with 4 humps'"
      ]
     },
     "execution_count": 25,
     "metadata": {},
     "output_type": "execute_result"
    }
   ],
   "source": [
    "a = 'boris'\n",
    "b = 4\n",
    "f\"{a} is a camel with {b} humps\""
   ]
  },
  {
   "cell_type": "code",
   "execution_count": null,
   "id": "90856f5e",
   "metadata": {},
   "outputs": [],
   "source": []
  }
 ],
 "metadata": {
  "kernelspec": {
   "display_name": "Python 3 (ipykernel)",
   "language": "python",
   "name": "python3"
  },
  "language_info": {
   "codemirror_mode": {
    "name": "ipython",
    "version": 3
   },
   "file_extension": ".py",
   "mimetype": "text/x-python",
   "name": "python",
   "nbconvert_exporter": "python",
   "pygments_lexer": "ipython3",
   "version": "3.11.5"
  }
 },
 "nbformat": 4,
 "nbformat_minor": 5
}
